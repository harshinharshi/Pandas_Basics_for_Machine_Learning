{
 "cells": [
  {
   "cell_type": "markdown",
   "metadata": {},
   "source": [
    "# Pandas: Data Analysis Made Easy"
   ]
  },
  {
   "cell_type": "markdown",
   "metadata": {},
   "source": [
    "[Pandas](https://pandas.pydata.org/) is an open-source data manipulation and analysis library for Python. It provides powerful tools for working with structured data, making data analysis tasks more efficient and intuitive.\n",
    "\n",
    "## Why Pandas?\n",
    "\n",
    "- **Flexible Data Structures:** Pandas offers two main data structures: Series (1-dimensional) and DataFrame (2-dimensional), which can handle both labeled and unlabelled data.\n",
    "\n",
    "- **Data Cleaning and Preparation:** Pandas simplifies the process of cleaning and preparing data by providing functions to handle missing data, duplicate entries, data type conversions, and more.\n",
    "\n",
    "- **Data Exploration and Analysis:** With Pandas, you can easily explore and analyze your data using functions for filtering, sorting, grouping, aggregating, and visualizing data.\n",
    "\n",
    "- **Integration with Other Libraries:** Pandas seamlessly integrates with other Python libraries like NumPy, Matplotlib, and scikit-learn, making it a powerful tool for data analysis and machine learning workflows.\n",
    "\n",
    "- **Rich Functionality:** Pandas offers a wide range of functions and methods for data manipulation, including merging and joining datasets, reshaping data, time series analysis, and handling large datasets efficiently.\n",
    "\n",
    "- **Community Support:** Pandas has a large and active community of users and developers who contribute to its development, provide support, and share resources and best practices.\n",
    "\n",
    "## Getting Started with Pandas\n",
    "\n",
    "To get started with Pandas, you can install it using pip:\n",
    "\n",
    "```bash\n",
    "pip install pandas\n"
   ]
  },
  {
   "cell_type": "code",
   "execution_count": 44,
   "metadata": {},
   "outputs": [
    {
     "name": "stdout",
     "output_type": "stream",
     "text": [
      "Requirement already satisfied: pandas in c:\\users\\harsh\\miniconda3\\envs\\test\\lib\\site-packages (2.0.3)\n",
      "Requirement already satisfied: python-dateutil>=2.8.2 in c:\\users\\harsh\\miniconda3\\envs\\test\\lib\\site-packages (from pandas) (2.8.2)\n",
      "Requirement already satisfied: pytz>=2020.1 in c:\\users\\harsh\\miniconda3\\envs\\test\\lib\\site-packages (from pandas) (2024.1)\n",
      "Requirement already satisfied: tzdata>=2022.1 in c:\\users\\harsh\\miniconda3\\envs\\test\\lib\\site-packages (from pandas) (2024.1)\n",
      "Requirement already satisfied: numpy>=1.20.3 in c:\\users\\harsh\\miniconda3\\envs\\test\\lib\\site-packages (from pandas) (1.24.4)\n",
      "Requirement already satisfied: six>=1.5 in c:\\users\\harsh\\miniconda3\\envs\\test\\lib\\site-packages (from python-dateutil>=2.8.2->pandas) (1.16.0)\n"
     ]
    }
   ],
   "source": [
    "! pip install pandas"
   ]
  },
  {
   "cell_type": "markdown",
   "metadata": {},
   "source": [
    "Once installed, you can import Pandas in your Python scripts or Jupyter notebooks and start working with your data.\n",
    "\n",
    "```bash\n",
    "import pandas as pd"
   ]
  },
  {
   "cell_type": "code",
   "execution_count": 45,
   "metadata": {},
   "outputs": [],
   "source": [
    "import pandas as pd"
   ]
  },
  {
   "cell_type": "markdown",
   "metadata": {},
   "source": [
    "## READ"
   ]
  },
  {
   "cell_type": "markdown",
   "metadata": {},
   "source": [
    "### read from csv file"
   ]
  },
  {
   "cell_type": "code",
   "execution_count": 46,
   "metadata": {},
   "outputs": [
    {
     "data": {
      "text/html": [
       "<div>\n",
       "<style scoped>\n",
       "    .dataframe tbody tr th:only-of-type {\n",
       "        vertical-align: middle;\n",
       "    }\n",
       "\n",
       "    .dataframe tbody tr th {\n",
       "        vertical-align: top;\n",
       "    }\n",
       "\n",
       "    .dataframe thead th {\n",
       "        text-align: right;\n",
       "    }\n",
       "</style>\n",
       "<table border=\"1\" class=\"dataframe\">\n",
       "  <thead>\n",
       "    <tr style=\"text-align: right;\">\n",
       "      <th></th>\n",
       "      <th>name</th>\n",
       "      <th>date</th>\n",
       "      <th>manner_of_death</th>\n",
       "      <th>armed</th>\n",
       "      <th>age</th>\n",
       "      <th>gender</th>\n",
       "      <th>race</th>\n",
       "      <th>city</th>\n",
       "      <th>state</th>\n",
       "      <th>signs_of_mental_illness</th>\n",
       "      <th>threat_level</th>\n",
       "      <th>flee</th>\n",
       "      <th>body_camera</th>\n",
       "      <th>arms_category</th>\n",
       "    </tr>\n",
       "    <tr>\n",
       "      <th>id</th>\n",
       "      <th></th>\n",
       "      <th></th>\n",
       "      <th></th>\n",
       "      <th></th>\n",
       "      <th></th>\n",
       "      <th></th>\n",
       "      <th></th>\n",
       "      <th></th>\n",
       "      <th></th>\n",
       "      <th></th>\n",
       "      <th></th>\n",
       "      <th></th>\n",
       "      <th></th>\n",
       "      <th></th>\n",
       "    </tr>\n",
       "  </thead>\n",
       "  <tbody>\n",
       "    <tr>\n",
       "      <th>3</th>\n",
       "      <td>Tim Elliot</td>\n",
       "      <td>2015-01-02</td>\n",
       "      <td>shot</td>\n",
       "      <td>gun</td>\n",
       "      <td>53.0</td>\n",
       "      <td>M</td>\n",
       "      <td>Asian</td>\n",
       "      <td>Shelton</td>\n",
       "      <td>WA</td>\n",
       "      <td>True</td>\n",
       "      <td>attack</td>\n",
       "      <td>Not fleeing</td>\n",
       "      <td>False</td>\n",
       "      <td>Guns</td>\n",
       "    </tr>\n",
       "    <tr>\n",
       "      <th>4</th>\n",
       "      <td>Lewis Lee Lembke</td>\n",
       "      <td>2015-01-02</td>\n",
       "      <td>shot</td>\n",
       "      <td>gun</td>\n",
       "      <td>47.0</td>\n",
       "      <td>M</td>\n",
       "      <td>White</td>\n",
       "      <td>Aloha</td>\n",
       "      <td>OR</td>\n",
       "      <td>False</td>\n",
       "      <td>attack</td>\n",
       "      <td>Not fleeing</td>\n",
       "      <td>False</td>\n",
       "      <td>Guns</td>\n",
       "    </tr>\n",
       "    <tr>\n",
       "      <th>5</th>\n",
       "      <td>John Paul Quintero</td>\n",
       "      <td>2015-01-03</td>\n",
       "      <td>shot and Tasered</td>\n",
       "      <td>unarmed</td>\n",
       "      <td>23.0</td>\n",
       "      <td>M</td>\n",
       "      <td>Hispanic</td>\n",
       "      <td>Wichita</td>\n",
       "      <td>KS</td>\n",
       "      <td>False</td>\n",
       "      <td>other</td>\n",
       "      <td>Not fleeing</td>\n",
       "      <td>False</td>\n",
       "      <td>Unarmed</td>\n",
       "    </tr>\n",
       "  </tbody>\n",
       "</table>\n",
       "</div>"
      ],
      "text/plain": [
       "                  name        date   manner_of_death    armed   age gender  \\\n",
       "id                                                                           \n",
       "3           Tim Elliot  2015-01-02              shot      gun  53.0      M   \n",
       "4     Lewis Lee Lembke  2015-01-02              shot      gun  47.0      M   \n",
       "5   John Paul Quintero  2015-01-03  shot and Tasered  unarmed  23.0      M   \n",
       "\n",
       "        race     city state  signs_of_mental_illness threat_level  \\\n",
       "id                                                                  \n",
       "3      Asian  Shelton    WA                     True       attack   \n",
       "4      White    Aloha    OR                    False       attack   \n",
       "5   Hispanic  Wichita    KS                    False        other   \n",
       "\n",
       "           flee  body_camera arms_category  \n",
       "id                                          \n",
       "3   Not fleeing        False          Guns  \n",
       "4   Not fleeing        False          Guns  \n",
       "5   Not fleeing        False       Unarmed  "
      ]
     },
     "execution_count": 46,
     "metadata": {},
     "output_type": "execute_result"
    }
   ],
   "source": [
    "# Reading CSV files\n",
    "reviews = pd.read_csv(\"data/shootings.csv\", index_col=0)\n",
    "# first 3 rows are printed\n",
    "reviews.head(3)"
   ]
  },
  {
   "cell_type": "code",
   "execution_count": 47,
   "metadata": {},
   "outputs": [
    {
     "data": {
      "text/html": [
       "<div>\n",
       "<style scoped>\n",
       "    .dataframe tbody tr th:only-of-type {\n",
       "        vertical-align: middle;\n",
       "    }\n",
       "\n",
       "    .dataframe tbody tr th {\n",
       "        vertical-align: top;\n",
       "    }\n",
       "\n",
       "    .dataframe thead th {\n",
       "        text-align: right;\n",
       "    }\n",
       "</style>\n",
       "<table border=\"1\" class=\"dataframe\">\n",
       "  <thead>\n",
       "    <tr style=\"text-align: right;\">\n",
       "      <th></th>\n",
       "      <th>name</th>\n",
       "      <th>date</th>\n",
       "      <th>manner_of_death</th>\n",
       "      <th>armed</th>\n",
       "      <th>age</th>\n",
       "      <th>gender</th>\n",
       "      <th>race</th>\n",
       "      <th>city</th>\n",
       "      <th>state</th>\n",
       "      <th>signs_of_mental_illness</th>\n",
       "      <th>threat_level</th>\n",
       "      <th>flee</th>\n",
       "      <th>body_camera</th>\n",
       "      <th>arms_category</th>\n",
       "    </tr>\n",
       "    <tr>\n",
       "      <th>id</th>\n",
       "      <th></th>\n",
       "      <th></th>\n",
       "      <th></th>\n",
       "      <th></th>\n",
       "      <th></th>\n",
       "      <th></th>\n",
       "      <th></th>\n",
       "      <th></th>\n",
       "      <th></th>\n",
       "      <th></th>\n",
       "      <th></th>\n",
       "      <th></th>\n",
       "      <th></th>\n",
       "      <th></th>\n",
       "    </tr>\n",
       "  </thead>\n",
       "  <tbody>\n",
       "    <tr>\n",
       "      <th>5916</th>\n",
       "      <td>Rayshard Brooks</td>\n",
       "      <td>2020-06-12</td>\n",
       "      <td>shot</td>\n",
       "      <td>Taser</td>\n",
       "      <td>27.0</td>\n",
       "      <td>M</td>\n",
       "      <td>Black</td>\n",
       "      <td>Atlanta</td>\n",
       "      <td>GA</td>\n",
       "      <td>False</td>\n",
       "      <td>attack</td>\n",
       "      <td>Foot</td>\n",
       "      <td>True</td>\n",
       "      <td>Electrical devices</td>\n",
       "    </tr>\n",
       "    <tr>\n",
       "      <th>5925</th>\n",
       "      <td>Caine Van Pelt</td>\n",
       "      <td>2020-06-12</td>\n",
       "      <td>shot</td>\n",
       "      <td>gun</td>\n",
       "      <td>23.0</td>\n",
       "      <td>M</td>\n",
       "      <td>Black</td>\n",
       "      <td>Crown Point</td>\n",
       "      <td>IN</td>\n",
       "      <td>False</td>\n",
       "      <td>attack</td>\n",
       "      <td>Car</td>\n",
       "      <td>False</td>\n",
       "      <td>Guns</td>\n",
       "    </tr>\n",
       "    <tr>\n",
       "      <th>5918</th>\n",
       "      <td>Hannah Fizer</td>\n",
       "      <td>2020-06-13</td>\n",
       "      <td>shot</td>\n",
       "      <td>unarmed</td>\n",
       "      <td>25.0</td>\n",
       "      <td>F</td>\n",
       "      <td>White</td>\n",
       "      <td>Sedalia</td>\n",
       "      <td>MO</td>\n",
       "      <td>False</td>\n",
       "      <td>other</td>\n",
       "      <td>Not fleeing</td>\n",
       "      <td>False</td>\n",
       "      <td>Unarmed</td>\n",
       "    </tr>\n",
       "    <tr>\n",
       "      <th>5921</th>\n",
       "      <td>William Slyter</td>\n",
       "      <td>2020-06-13</td>\n",
       "      <td>shot</td>\n",
       "      <td>gun</td>\n",
       "      <td>22.0</td>\n",
       "      <td>M</td>\n",
       "      <td>White</td>\n",
       "      <td>Kansas City</td>\n",
       "      <td>MO</td>\n",
       "      <td>False</td>\n",
       "      <td>other</td>\n",
       "      <td>Other</td>\n",
       "      <td>False</td>\n",
       "      <td>Guns</td>\n",
       "    </tr>\n",
       "    <tr>\n",
       "      <th>5924</th>\n",
       "      <td>Nicholas Hirsh</td>\n",
       "      <td>2020-06-15</td>\n",
       "      <td>shot</td>\n",
       "      <td>gun</td>\n",
       "      <td>31.0</td>\n",
       "      <td>M</td>\n",
       "      <td>White</td>\n",
       "      <td>Lawrence</td>\n",
       "      <td>KS</td>\n",
       "      <td>False</td>\n",
       "      <td>attack</td>\n",
       "      <td>Car</td>\n",
       "      <td>False</td>\n",
       "      <td>Guns</td>\n",
       "    </tr>\n",
       "  </tbody>\n",
       "</table>\n",
       "</div>"
      ],
      "text/plain": [
       "                 name        date manner_of_death    armed   age gender  \\\n",
       "id                                                                        \n",
       "5916  Rayshard Brooks  2020-06-12            shot    Taser  27.0      M   \n",
       "5925   Caine Van Pelt  2020-06-12            shot      gun  23.0      M   \n",
       "5918     Hannah Fizer  2020-06-13            shot  unarmed  25.0      F   \n",
       "5921   William Slyter  2020-06-13            shot      gun  22.0      M   \n",
       "5924   Nicholas Hirsh  2020-06-15            shot      gun  31.0      M   \n",
       "\n",
       "       race         city state  signs_of_mental_illness threat_level  \\\n",
       "id                                                                     \n",
       "5916  Black      Atlanta    GA                    False       attack   \n",
       "5925  Black  Crown Point    IN                    False       attack   \n",
       "5918  White      Sedalia    MO                    False        other   \n",
       "5921  White  Kansas City    MO                    False        other   \n",
       "5924  White     Lawrence    KS                    False       attack   \n",
       "\n",
       "             flee  body_camera       arms_category  \n",
       "id                                                  \n",
       "5916         Foot         True  Electrical devices  \n",
       "5925          Car        False                Guns  \n",
       "5918  Not fleeing        False             Unarmed  \n",
       "5921        Other        False                Guns  \n",
       "5924          Car        False                Guns  "
      ]
     },
     "execution_count": 47,
     "metadata": {},
     "output_type": "execute_result"
    }
   ],
   "source": [
    "# last 5 rows\n",
    "reviews.tail()"
   ]
  },
  {
   "cell_type": "code",
   "execution_count": 48,
   "metadata": {},
   "outputs": [
    {
     "data": {
      "text/plain": [
       "Index(['name', 'date', 'manner_of_death', 'armed', 'age', 'gender', 'race',\n",
       "       'city', 'state', 'signs_of_mental_illness', 'threat_level', 'flee',\n",
       "       'body_camera', 'arms_category'],\n",
       "      dtype='object')"
      ]
     },
     "execution_count": 48,
     "metadata": {},
     "output_type": "execute_result"
    }
   ],
   "source": [
    "# All columns of the dataframe\n",
    "reviews.columns"
   ]
  },
  {
   "cell_type": "code",
   "execution_count": 49,
   "metadata": {},
   "outputs": [
    {
     "data": {
      "text/plain": [
       "pandas.core.frame.DataFrame"
      ]
     },
     "execution_count": 49,
     "metadata": {},
     "output_type": "execute_result"
    }
   ],
   "source": [
    "# shows that the readed csv file is in dataframe format\n",
    "type(reviews)"
   ]
  },
  {
   "cell_type": "code",
   "execution_count": 50,
   "metadata": {},
   "outputs": [
    {
     "data": {
      "text/html": [
       "<div>\n",
       "<style scoped>\n",
       "    .dataframe tbody tr th:only-of-type {\n",
       "        vertical-align: middle;\n",
       "    }\n",
       "\n",
       "    .dataframe tbody tr th {\n",
       "        vertical-align: top;\n",
       "    }\n",
       "\n",
       "    .dataframe thead th {\n",
       "        text-align: right;\n",
       "    }\n",
       "</style>\n",
       "<table border=\"1\" class=\"dataframe\">\n",
       "  <thead>\n",
       "    <tr style=\"text-align: right;\">\n",
       "      <th></th>\n",
       "      <th>id</th>\n",
       "      <th>name</th>\n",
       "      <th>date</th>\n",
       "      <th>manner_of_death</th>\n",
       "      <th>armed</th>\n",
       "      <th>age</th>\n",
       "      <th>gender</th>\n",
       "      <th>race</th>\n",
       "      <th>city</th>\n",
       "      <th>state</th>\n",
       "      <th>signs_of_mental_illness</th>\n",
       "      <th>threat_level</th>\n",
       "      <th>flee</th>\n",
       "      <th>body_camera</th>\n",
       "      <th>arms_category</th>\n",
       "    </tr>\n",
       "  </thead>\n",
       "  <tbody>\n",
       "    <tr>\n",
       "      <th>0</th>\n",
       "      <td>4</td>\n",
       "      <td>Lewis Lee Lembke</td>\n",
       "      <td>2015-01-02</td>\n",
       "      <td>shot</td>\n",
       "      <td>gun</td>\n",
       "      <td>47.0</td>\n",
       "      <td>M</td>\n",
       "      <td>White</td>\n",
       "      <td>Aloha</td>\n",
       "      <td>OR</td>\n",
       "      <td>False</td>\n",
       "      <td>attack</td>\n",
       "      <td>Not fleeing</td>\n",
       "      <td>False</td>\n",
       "      <td>Guns</td>\n",
       "    </tr>\n",
       "    <tr>\n",
       "      <th>1</th>\n",
       "      <td>5</td>\n",
       "      <td>John Paul Quintero</td>\n",
       "      <td>2015-01-03</td>\n",
       "      <td>shot and Tasered</td>\n",
       "      <td>unarmed</td>\n",
       "      <td>23.0</td>\n",
       "      <td>M</td>\n",
       "      <td>Hispanic</td>\n",
       "      <td>Wichita</td>\n",
       "      <td>KS</td>\n",
       "      <td>False</td>\n",
       "      <td>other</td>\n",
       "      <td>Not fleeing</td>\n",
       "      <td>False</td>\n",
       "      <td>Unarmed</td>\n",
       "    </tr>\n",
       "    <tr>\n",
       "      <th>2</th>\n",
       "      <td>8</td>\n",
       "      <td>Matthew Hoffman</td>\n",
       "      <td>2015-01-04</td>\n",
       "      <td>shot</td>\n",
       "      <td>toy weapon</td>\n",
       "      <td>32.0</td>\n",
       "      <td>M</td>\n",
       "      <td>White</td>\n",
       "      <td>San Francisco</td>\n",
       "      <td>CA</td>\n",
       "      <td>True</td>\n",
       "      <td>attack</td>\n",
       "      <td>Not fleeing</td>\n",
       "      <td>False</td>\n",
       "      <td>Other unusual objects</td>\n",
       "    </tr>\n",
       "  </tbody>\n",
       "</table>\n",
       "</div>"
      ],
      "text/plain": [
       "   id                name        date   manner_of_death       armed   age  \\\n",
       "0   4    Lewis Lee Lembke  2015-01-02              shot         gun  47.0   \n",
       "1   5  John Paul Quintero  2015-01-03  shot and Tasered     unarmed  23.0   \n",
       "2   8     Matthew Hoffman  2015-01-04              shot  toy weapon  32.0   \n",
       "\n",
       "  gender      race           city state  signs_of_mental_illness threat_level  \\\n",
       "0      M     White          Aloha    OR                    False       attack   \n",
       "1      M  Hispanic        Wichita    KS                    False        other   \n",
       "2      M     White  San Francisco    CA                     True       attack   \n",
       "\n",
       "          flee  body_camera          arms_category  \n",
       "0  Not fleeing        False                   Guns  \n",
       "1  Not fleeing        False                Unarmed  \n",
       "2  Not fleeing        False  Other unusual objects  "
      ]
     },
     "execution_count": 50,
     "metadata": {},
     "output_type": "execute_result"
    }
   ],
   "source": [
    "#skip first and 10th row\n",
    "skip_rows = pd.read_csv(\"data/shootings.csv\",skiprows = [1,10])\n",
    "skip_rows.head(3)"
   ]
  },
  {
   "cell_type": "code",
   "execution_count": 51,
   "metadata": {},
   "outputs": [
    {
     "data": {
      "text/plain": [
       "name                       0\n",
       "date                       0\n",
       "manner_of_death            0\n",
       "armed                      0\n",
       "age                        0\n",
       "gender                     0\n",
       "race                       0\n",
       "city                       0\n",
       "state                      0\n",
       "signs_of_mental_illness    0\n",
       "threat_level               0\n",
       "flee                       0\n",
       "body_camera                0\n",
       "arms_category              0\n",
       "dtype: int64"
      ]
     },
     "execution_count": 51,
     "metadata": {},
     "output_type": "execute_result"
    }
   ],
   "source": [
    "# number of null valules in each column\n",
    "null_count_per_column = reviews.isnull().sum()\n",
    "null_count_per_column"
   ]
  },
  {
   "cell_type": "markdown",
   "metadata": {},
   "source": [
    "**describe()**\n",
    " \n",
    "function in Pandas is a powerful tool for generating descriptive statistics of numerical data in a DataFrame. When applied to a DataFrame, it provides a summary of various statistical measures for each numerical column, including count, mean, standard deviation, minimum, maximum, and percentiles. This function is particularly useful for getting a quick overview of the distribution and central tendency of numerical data, helping users to understand their dataset's characteristics at a glance."
   ]
  },
  {
   "cell_type": "code",
   "execution_count": 52,
   "metadata": {},
   "outputs": [
    {
     "data": {
      "text/html": [
       "<div>\n",
       "<style scoped>\n",
       "    .dataframe tbody tr th:only-of-type {\n",
       "        vertical-align: middle;\n",
       "    }\n",
       "\n",
       "    .dataframe tbody tr th {\n",
       "        vertical-align: top;\n",
       "    }\n",
       "\n",
       "    .dataframe thead th {\n",
       "        text-align: right;\n",
       "    }\n",
       "</style>\n",
       "<table border=\"1\" class=\"dataframe\">\n",
       "  <thead>\n",
       "    <tr style=\"text-align: right;\">\n",
       "      <th></th>\n",
       "      <th>age</th>\n",
       "    </tr>\n",
       "  </thead>\n",
       "  <tbody>\n",
       "    <tr>\n",
       "      <th>count</th>\n",
       "      <td>4895.000000</td>\n",
       "    </tr>\n",
       "    <tr>\n",
       "      <th>mean</th>\n",
       "      <td>36.549750</td>\n",
       "    </tr>\n",
       "    <tr>\n",
       "      <th>std</th>\n",
       "      <td>12.694348</td>\n",
       "    </tr>\n",
       "    <tr>\n",
       "      <th>min</th>\n",
       "      <td>6.000000</td>\n",
       "    </tr>\n",
       "    <tr>\n",
       "      <th>25%</th>\n",
       "      <td>27.000000</td>\n",
       "    </tr>\n",
       "    <tr>\n",
       "      <th>50%</th>\n",
       "      <td>35.000000</td>\n",
       "    </tr>\n",
       "    <tr>\n",
       "      <th>75%</th>\n",
       "      <td>45.000000</td>\n",
       "    </tr>\n",
       "    <tr>\n",
       "      <th>max</th>\n",
       "      <td>91.000000</td>\n",
       "    </tr>\n",
       "  </tbody>\n",
       "</table>\n",
       "</div>"
      ],
      "text/plain": [
       "               age\n",
       "count  4895.000000\n",
       "mean     36.549750\n",
       "std      12.694348\n",
       "min       6.000000\n",
       "25%      27.000000\n",
       "50%      35.000000\n",
       "75%      45.000000\n",
       "max      91.000000"
      ]
     },
     "execution_count": 52,
     "metadata": {},
     "output_type": "execute_result"
    }
   ],
   "source": [
    "# only numeric columns are considered\n",
    "reviews.describe()"
   ]
  },
  {
   "cell_type": "code",
   "execution_count": 53,
   "metadata": {},
   "outputs": [
    {
     "data": {
      "text/plain": [
       "name                        object\n",
       "date                        object\n",
       "manner_of_death             object\n",
       "armed                       object\n",
       "age                        float64\n",
       "gender                      object\n",
       "race                        object\n",
       "city                        object\n",
       "state                       object\n",
       "signs_of_mental_illness       bool\n",
       "threat_level                object\n",
       "flee                        object\n",
       "body_camera                   bool\n",
       "arms_category               object\n",
       "dtype: object"
      ]
     },
     "execution_count": 53,
     "metadata": {},
     "output_type": "execute_result"
    }
   ],
   "source": [
    "# show the data type of each column\n",
    "reviews.dtypes"
   ]
  },
  {
   "cell_type": "markdown",
   "metadata": {},
   "source": [
    "**Series in DataFrame**\n",
    "\n",
    "In Pandas, a Series is a one-dimensional array-like object that can hold any data type (e.g., integers, strings, floats). It's essentially a labeled array capable of holding data of any type.\n",
    "\n",
    "**Usage**\n",
    "\n",
    "A Series is commonly used to represent a single column or row of data in a DataFrame. It can be created from various data structures like lists, dictionaries, or NumPy arrays."
   ]
  },
  {
   "cell_type": "code",
   "execution_count": 54,
   "metadata": {},
   "outputs": [
    {
     "data": {
      "text/plain": [
       "pandas.core.series.Series"
      ]
     },
     "execution_count": 54,
     "metadata": {},
     "output_type": "execute_result"
    }
   ],
   "source": [
    "# Series\n",
    "type(reviews['age'])"
   ]
  },
  {
   "cell_type": "code",
   "execution_count": 55,
   "metadata": {},
   "outputs": [
    {
     "data": {
      "text/plain": [
       "pandas.core.frame.DataFrame"
      ]
     },
     "execution_count": 55,
     "metadata": {},
     "output_type": "execute_result"
    }
   ],
   "source": [
    "# when two square brackets are given then its considered as data frame\n",
    "type(reviews[['age']])"
   ]
  },
  {
   "cell_type": "code",
   "execution_count": 56,
   "metadata": {},
   "outputs": [
    {
     "data": {
      "text/html": [
       "<div>\n",
       "<style scoped>\n",
       "    .dataframe tbody tr th:only-of-type {\n",
       "        vertical-align: middle;\n",
       "    }\n",
       "\n",
       "    .dataframe tbody tr th {\n",
       "        vertical-align: top;\n",
       "    }\n",
       "\n",
       "    .dataframe thead th {\n",
       "        text-align: right;\n",
       "    }\n",
       "</style>\n",
       "<table border=\"1\" class=\"dataframe\">\n",
       "  <thead>\n",
       "    <tr style=\"text-align: right;\">\n",
       "      <th></th>\n",
       "      <th>age</th>\n",
       "      <th>gender</th>\n",
       "    </tr>\n",
       "    <tr>\n",
       "      <th>id</th>\n",
       "      <th></th>\n",
       "      <th></th>\n",
       "    </tr>\n",
       "  </thead>\n",
       "  <tbody>\n",
       "    <tr>\n",
       "      <th>3</th>\n",
       "      <td>53.0</td>\n",
       "      <td>M</td>\n",
       "    </tr>\n",
       "    <tr>\n",
       "      <th>4</th>\n",
       "      <td>47.0</td>\n",
       "      <td>M</td>\n",
       "    </tr>\n",
       "    <tr>\n",
       "      <th>5</th>\n",
       "      <td>23.0</td>\n",
       "      <td>M</td>\n",
       "    </tr>\n",
       "    <tr>\n",
       "      <th>8</th>\n",
       "      <td>32.0</td>\n",
       "      <td>M</td>\n",
       "    </tr>\n",
       "    <tr>\n",
       "      <th>9</th>\n",
       "      <td>39.0</td>\n",
       "      <td>M</td>\n",
       "    </tr>\n",
       "    <tr>\n",
       "      <th>...</th>\n",
       "      <td>...</td>\n",
       "      <td>...</td>\n",
       "    </tr>\n",
       "    <tr>\n",
       "      <th>5916</th>\n",
       "      <td>27.0</td>\n",
       "      <td>M</td>\n",
       "    </tr>\n",
       "    <tr>\n",
       "      <th>5925</th>\n",
       "      <td>23.0</td>\n",
       "      <td>M</td>\n",
       "    </tr>\n",
       "    <tr>\n",
       "      <th>5918</th>\n",
       "      <td>25.0</td>\n",
       "      <td>F</td>\n",
       "    </tr>\n",
       "    <tr>\n",
       "      <th>5921</th>\n",
       "      <td>22.0</td>\n",
       "      <td>M</td>\n",
       "    </tr>\n",
       "    <tr>\n",
       "      <th>5924</th>\n",
       "      <td>31.0</td>\n",
       "      <td>M</td>\n",
       "    </tr>\n",
       "  </tbody>\n",
       "</table>\n",
       "<p>4895 rows × 2 columns</p>\n",
       "</div>"
      ],
      "text/plain": [
       "       age gender\n",
       "id               \n",
       "3     53.0      M\n",
       "4     47.0      M\n",
       "5     23.0      M\n",
       "8     32.0      M\n",
       "9     39.0      M\n",
       "...    ...    ...\n",
       "5916  27.0      M\n",
       "5925  23.0      M\n",
       "5918  25.0      F\n",
       "5921  22.0      M\n",
       "5924  31.0      M\n",
       "\n",
       "[4895 rows x 2 columns]"
      ]
     },
     "execution_count": 56,
     "metadata": {},
     "output_type": "execute_result"
    }
   ],
   "source": [
    "# getting the columns with name\n",
    "reviews[['age', 'gender']]"
   ]
  },
  {
   "cell_type": "markdown",
   "metadata": {},
   "source": [
    "### reading from excel file\n",
    "\n"
   ]
  },
  {
   "cell_type": "markdown",
   "metadata": {},
   "source": [
    "here we need to install a module called openpyxl\n",
    "\n",
    "```bash\n",
    "! pip install openpyxl\n",
    "```"
   ]
  },
  {
   "cell_type": "code",
   "execution_count": 57,
   "metadata": {},
   "outputs": [
    {
     "name": "stdout",
     "output_type": "stream",
     "text": [
      "Requirement already satisfied: openpyxl in c:\\users\\harsh\\miniconda3\\envs\\test\\lib\\site-packages (3.1.2)\n",
      "Requirement already satisfied: et-xmlfile in c:\\users\\harsh\\miniconda3\\envs\\test\\lib\\site-packages (from openpyxl) (1.1.0)\n"
     ]
    }
   ],
   "source": [
    "! pip install openpyxl"
   ]
  },
  {
   "cell_type": "code",
   "execution_count": 58,
   "metadata": {},
   "outputs": [
    {
     "data": {
      "text/html": [
       "<div>\n",
       "<style scoped>\n",
       "    .dataframe tbody tr th:only-of-type {\n",
       "        vertical-align: middle;\n",
       "    }\n",
       "\n",
       "    .dataframe tbody tr th {\n",
       "        vertical-align: top;\n",
       "    }\n",
       "\n",
       "    .dataframe thead th {\n",
       "        text-align: right;\n",
       "    }\n",
       "</style>\n",
       "<table border=\"1\" class=\"dataframe\">\n",
       "  <thead>\n",
       "    <tr style=\"text-align: right;\">\n",
       "      <th></th>\n",
       "      <th>Column1</th>\n",
       "      <th>Column2</th>\n",
       "      <th>Column3</th>\n",
       "      <th>Column4</th>\n",
       "      <th>Column5</th>\n",
       "      <th>Column6</th>\n",
       "      <th>Column7</th>\n",
       "      <th>Column8</th>\n",
       "      <th>Column9</th>\n",
       "      <th>Column10</th>\n",
       "      <th>Column11</th>\n",
       "    </tr>\n",
       "  </thead>\n",
       "  <tbody>\n",
       "    <tr>\n",
       "      <th>NaN</th>\n",
       "      <td>NaN</td>\n",
       "      <td>NaN</td>\n",
       "      <td>NaN</td>\n",
       "      <td>NaN</td>\n",
       "      <td>NaN</td>\n",
       "      <td>NaN</td>\n",
       "      <td>NaN</td>\n",
       "      <td>NaN</td>\n",
       "      <td>NaN</td>\n",
       "      <td>NaN</td>\n",
       "      <td>NaN</td>\n",
       "    </tr>\n",
       "    <tr>\n",
       "      <th>Profit &amp; Loss statement</th>\n",
       "      <td>NaN</td>\n",
       "      <td>NaN</td>\n",
       "      <td>NaN</td>\n",
       "      <td>NaN</td>\n",
       "      <td>NaN</td>\n",
       "      <td>NaN</td>\n",
       "      <td>NaN</td>\n",
       "      <td>NaN</td>\n",
       "      <td>NaN</td>\n",
       "      <td>NaN</td>\n",
       "      <td>NaN</td>\n",
       "    </tr>\n",
       "    <tr>\n",
       "      <th>NaN</th>\n",
       "      <td>in million USD</td>\n",
       "      <td>FY '09</td>\n",
       "      <td>FY '10</td>\n",
       "      <td>FY '11</td>\n",
       "      <td>FY '12</td>\n",
       "      <td>FY '13</td>\n",
       "      <td>FY '14</td>\n",
       "      <td>FY '15</td>\n",
       "      <td>FY '16</td>\n",
       "      <td>FY '17</td>\n",
       "      <td>FY '18</td>\n",
       "    </tr>\n",
       "    <tr>\n",
       "      <th>NaN</th>\n",
       "      <td>NET OPERATING REVENUES</td>\n",
       "      <td>30990</td>\n",
       "      <td>35119</td>\n",
       "      <td>46542</td>\n",
       "      <td>48017</td>\n",
       "      <td>46854</td>\n",
       "      <td>45998</td>\n",
       "      <td>44294</td>\n",
       "      <td>41863</td>\n",
       "      <td>35410</td>\n",
       "      <td>31856</td>\n",
       "    </tr>\n",
       "    <tr>\n",
       "      <th>NaN</th>\n",
       "      <td>Cost of goods sold</td>\n",
       "      <td>11088</td>\n",
       "      <td>12693</td>\n",
       "      <td>18215</td>\n",
       "      <td>19053</td>\n",
       "      <td>18421</td>\n",
       "      <td>17889</td>\n",
       "      <td>17482</td>\n",
       "      <td>16465</td>\n",
       "      <td>13255</td>\n",
       "      <td>11770</td>\n",
       "    </tr>\n",
       "  </tbody>\n",
       "</table>\n",
       "</div>"
      ],
      "text/plain": [
       "                                        Column1 Column2 Column3 Column4  \\\n",
       "NaN                                         NaN     NaN     NaN     NaN   \n",
       "Profit & Loss statement                     NaN     NaN     NaN     NaN   \n",
       "NaN                              in million USD  FY '09  FY '10  FY '11   \n",
       "NaN                      NET OPERATING REVENUES   30990   35119   46542   \n",
       "NaN                          Cost of goods sold   11088   12693   18215   \n",
       "\n",
       "                        Column5 Column6 Column7 Column8 Column9 Column10  \\\n",
       "NaN                         NaN     NaN     NaN     NaN     NaN      NaN   \n",
       "Profit & Loss statement     NaN     NaN     NaN     NaN     NaN      NaN   \n",
       "NaN                      FY '12  FY '13  FY '14  FY '15  FY '16   FY '17   \n",
       "NaN                       48017   46854   45998   44294   41863    35410   \n",
       "NaN                       19053   18421   17889   17482   16465    13255   \n",
       "\n",
       "                        Column11  \n",
       "NaN                          NaN  \n",
       "Profit & Loss statement      NaN  \n",
       "NaN                       FY '18  \n",
       "NaN                        31856  \n",
       "NaN                        11770  "
      ]
     },
     "execution_count": 58,
     "metadata": {},
     "output_type": "execute_result"
    }
   ],
   "source": [
    "df_excel = pd.read_excel(\"data/Cola.xlsx\", names = ['Column1', 'Column2', 'Column3', 'Column4', 'Column5', 'Column6', 'Column7', 'Column8', 'Column9', 'Column10', 'Column11'])\n",
    "df_excel.head()"
   ]
  },
  {
   "cell_type": "markdown",
   "metadata": {},
   "source": [
    "### Reading from HTML\n"
   ]
  },
  {
   "cell_type": "markdown",
   "metadata": {},
   "source": [
    "the data retrived from html page is a list we need to convert the data to csv, for this we need to install a module called lxml\n",
    "\n",
    "```bash\n",
    "! pip install lxml\n",
    "```"
   ]
  },
  {
   "cell_type": "code",
   "execution_count": 59,
   "metadata": {},
   "outputs": [
    {
     "name": "stdout",
     "output_type": "stream",
     "text": [
      "Requirement already satisfied: lxml in c:\\users\\harsh\\miniconda3\\envs\\test\\lib\\site-packages (5.1.0)\n"
     ]
    }
   ],
   "source": [
    "! pip install lxml"
   ]
  },
  {
   "cell_type": "code",
   "execution_count": 60,
   "metadata": {},
   "outputs": [
    {
     "data": {
      "text/plain": [
       "[       No.                      Player Pos    Ht   Wt         Birth Date  \\\n",
       " 0        4              Scottie Barnes  SG   6-7  227     August 1, 2001   \n",
       " 1       33              Gary Trent Jr.  SG   6-5  209   January 18, 1999   \n",
       " 2       19                Jakob Poeltl   C   7-0  245   October 15, 1995   \n",
       " 3       25               Chris Boucher  PF   6-9  200   January 11, 1993   \n",
       " 4        1                 Gradey Dick  SG   6-6  205  November 20, 2003   \n",
       " 5        2             Jalen McDaniels  SF   6-9  205   January 31, 1998   \n",
       " 6        5           Immanuel Quickley  PG   6-3  190      June 17, 1999   \n",
       " 7        9                  RJ Barrett  SG   6-6  214      June 14, 2000   \n",
       " 8       11                 Bruce Brown  PG   6-4  202    August 15, 1996   \n",
       " 9   11, 34          Jontay Porter (TW)  PF  6-11  240  November 15, 1999   \n",
       " 10      14              Garrett Temple  SG   6-5  195        May 8, 1986   \n",
       " 11      13                Jordan Nwora  SF   6-8  225  September 9, 1998   \n",
       " 12      41                Kelly Olynyk   C  6-11  240     April 19, 1991   \n",
       " 13      30                Ochai Agbaji  SG   6-5  215     April 20, 2000   \n",
       " 14       0  Javon Freeman-Liberty (TW)  PG   6-4  180   October 20, 1999   \n",
       " 15       3                 D.J. Carton  SG   6-2  200     August 5, 2000   \n",
       " 16      24        Markquis Nowell (TW)  SG   5-8  160  December 25, 1999   \n",
       " \n",
       "    Unnamed: 6 Exp                    College  \n",
       " 0          us   2              Florida State  \n",
       " 1          us   5                       Duke  \n",
       " 2          at   7                       Utah  \n",
       " 3          lc   6                     Oregon  \n",
       " 4          us   R                     Kansas  \n",
       " 5          us   4            San Diego State  \n",
       " 6          us   3                   Kentucky  \n",
       " 7          ca   4                       Duke  \n",
       " 8          us   5                 Miami (FL)  \n",
       " 9          us   1                   Missouri  \n",
       " 10         us  13                        LSU  \n",
       " 11         us   3                 Louisville  \n",
       " 12         ca  10                    Gonzaga  \n",
       " 13         us   1                     Kansas  \n",
       " 14         us   R         Valparaiso, DePaul  \n",
       " 15         us   R      Ohio State, Marquette  \n",
       " 16         us   R  Little Rock, Kansas State  ,\n",
       "     Rk                 Player  Age   G  GS    MP   FG   FGA    FG%   3P  ...  \\\n",
       " 0    1         Scottie Barnes   22  58  58  35.2  7.5  15.7  0.475  1.7  ...   \n",
       " 1    2          Pascal Siakam   29  39  39  34.7  8.3  16.0  0.522  1.2  ...   \n",
       " 2    3             RJ Barrett   23  21  21  33.4  8.0  14.5  0.549  1.4  ...   \n",
       " 3    4             OG Anunoby   26  27  27  33.3  5.8  11.9  0.489  2.3  ...   \n",
       " 4    5      Immanuel Quickley   24  23  23  32.4  5.9  14.2  0.414  2.9  ...   \n",
       " 5    6        Dennis Schröder   30  51  33  30.6  4.8  11.0  0.442  1.5  ...   \n",
       " 6    7         Gary Trent Jr.   25  53  23  26.6  4.3  10.3  0.420  2.4  ...   \n",
       " 7    8           Jakob Poeltl   28  47  47  26.6  4.9   7.4  0.663  0.0  ...   \n",
       " 8    9            Bruce Brown   27  17   5  25.8  3.6   7.9  0.455  0.5  ...   \n",
       " 9   10           Kelly Olynyk   32   6   0  19.0  3.2   6.5  0.487  0.5  ...   \n",
       " 10  11       Precious Achiuwa   24  25   0  17.5  3.1   6.8  0.459  0.5  ...   \n",
       " 11  12            Gradey Dick   20  37   1  15.7  2.2   5.1  0.439  1.1  ...   \n",
       " 12  13           Ochai Agbaji   23   6   0  15.5  2.5   5.5  0.455  1.0  ...   \n",
       " 13  14          Malachi Flynn   25  31   0  15.3  1.8   4.4  0.409  0.9  ...   \n",
       " 14  15         Thaddeus Young   35  23   6  15.2  2.3   3.8  0.621  0.0  ...   \n",
       " 15  16          Chris Boucher   31  47   0  13.7  2.1   4.3  0.490  0.6  ...   \n",
       " 16  17          Jontay Porter   24  17   5  13.0  1.5   4.1  0.371  0.7  ...   \n",
       " 17  18           Jordan Nwora   25  12   1  11.9  1.7   4.3  0.385  0.8  ...   \n",
       " 18  19        Otto Porter Jr.   30  15   1  11.6  0.9   2.2  0.424  0.5  ...   \n",
       " 19  20        Jalen McDaniels   26  34   0   8.8  1.0   3.1  0.330  0.3  ...   \n",
       " 20  21       Mouhamadou Gueye   25   1   0   6.0  1.0   3.0  0.333  0.0  ...   \n",
       " 21  22         Garrett Temple   37  16   0   4.3  0.5   1.3  0.381  0.1  ...   \n",
       " 22  23        Markquis Nowell   24   1   0   4.0  0.0   1.0  0.000  0.0  ...   \n",
       " 23  24         Ron Harper Jr.   23   1   0   4.0  0.0   0.0    NaN  0.0  ...   \n",
       " 24  25            D.J. Carton   23   1   0   4.0  1.0   1.0  1.000  0.0  ...   \n",
       " 25  26         Kira Lewis Jr.   22   1   0   2.0  0.0   0.0    NaN  0.0  ...   \n",
       " 26  27  Javon Freeman-Liberty   24   2   0   2.0  0.5   1.5  0.333  0.0  ...   \n",
       " \n",
       "       FT%  ORB  DRB  TRB  AST  STL  BLK  TOV   PF   PTS  \n",
       " 0   0.786  2.3  5.9  8.2  6.1  1.2  1.5  2.7  2.0  20.0  \n",
       " 1   0.758  1.4  4.9  6.3  4.9  0.8  0.3  2.1  2.2  22.2  \n",
       " 2   0.608  1.1  5.5  6.6  3.8  0.6  0.4  2.1  2.8  20.3  \n",
       " 3   0.717  0.9  3.0  3.9  2.7  1.0  0.5  1.6  2.3  15.1  \n",
       " 4   0.833  0.3  3.9  4.3  5.5  0.8  0.2  1.4  1.9  17.0  \n",
       " 5   0.852  0.4  2.3  2.7  6.1  0.9  0.2  1.6  2.1  13.7  \n",
       " 6   0.700  0.3  2.0  2.3  1.5  0.9  0.2  0.7  1.3  11.7  \n",
       " 7   0.559  2.9  5.7  8.6  2.5  0.6  1.5  1.6  2.9  11.1  \n",
       " 8   1.000  0.9  3.1  3.9  2.2  0.8  0.5  0.9  2.0   9.1  \n",
       " 9   0.857  1.2  2.8  4.0  2.8  1.3  0.5  0.8  2.8   8.8  \n",
       " 10  0.571  2.0  3.4  5.4  1.8  0.6  0.5  1.2  1.6   7.7  \n",
       " 11  0.920  0.5  1.4  1.8  1.1  0.5  0.0  0.6  1.3   6.2  \n",
       " 12  0.857  0.7  1.0  1.7  1.0  0.5  0.3  1.2  1.2   7.0  \n",
       " 13  0.773  0.4  1.7  2.1  2.4  0.6  0.2  1.1  1.4   5.1  \n",
       " 14  0.417  1.3  2.0  3.3  2.2  0.8  0.1  0.5  1.7   5.0  \n",
       " 15  0.753  1.2  2.8  4.0  0.4  0.3  0.4  0.5  1.3   6.2  \n",
       " 16  0.917  1.0  2.2  3.2  1.8  0.7  0.6  0.6  1.6   4.4  \n",
       " 17  0.905  0.4  1.8  2.3  1.3  0.5  0.2  0.6  1.2   5.7  \n",
       " 18  1.000  0.4  1.5  1.9  0.5  0.3  0.3  0.1  1.3   2.6  \n",
       " 19  0.700  0.3  1.0  1.2  0.5  0.3  0.1  0.5  0.9   2.8  \n",
       " 20    NaN  2.0  1.0  3.0  0.0  0.0  2.0  0.0  1.0   2.0  \n",
       " 21  0.833  0.3  0.4  0.7  0.4  0.2  0.0  0.3  0.4   1.4  \n",
       " 22  1.000  2.0  0.0  2.0  2.0  1.0  0.0  0.0  0.0   2.0  \n",
       " 23    NaN  0.0  0.0  0.0  1.0  0.0  0.0  0.0  2.0   0.0  \n",
       " 24  1.000  0.0  1.0  1.0  0.0  0.0  0.0  0.0  2.0   3.0  \n",
       " 25    NaN  0.0  0.0  0.0  0.0  0.0  0.0  0.0  1.0   0.0  \n",
       " 26    NaN  0.5  0.0  0.5  0.0  0.0  0.0  0.0  0.0   1.0  \n",
       " \n",
       " [27 rows x 28 columns],\n",
       "       Rk                 Player   Age   G    GS     MP    FG   FGA    FG%  \\\n",
       " 0    1.0         Scottie Barnes  22.0  58  58.0   2040   434   913  0.475   \n",
       " 1    2.0        Dennis Schröder  30.0  51  33.0   1559   247   559  0.442   \n",
       " 2    3.0         Gary Trent Jr.  25.0  53  23.0   1409   230   548  0.420   \n",
       " 3    4.0          Pascal Siakam  29.0  39  39.0   1354   325   623  0.522   \n",
       " 4    5.0           Jakob Poeltl  28.0  47  47.0   1250   232   350  0.663   \n",
       " 5    6.0             OG Anunoby  26.0  27  27.0    900   157   321  0.489   \n",
       " 6    7.0      Immanuel Quickley  24.0  23  23.0    745   135   326  0.414   \n",
       " 7    8.0             RJ Barrett  23.0  21  21.0    702   167   304  0.549   \n",
       " 8    9.0          Chris Boucher  31.0  47   0.0    645   100   204  0.490   \n",
       " 9   10.0            Gradey Dick  20.0  37   1.0    581    82   187  0.439   \n",
       " 10  11.0          Malachi Flynn  25.0  31   0.0    474    56   137  0.409   \n",
       " 11  12.0            Bruce Brown  27.0  17   5.0    438    61   134  0.455   \n",
       " 12  13.0       Precious Achiuwa  24.0  25   0.0    437    78   170  0.459   \n",
       " 13  14.0         Thaddeus Young  35.0  23   6.0    350    54    87  0.621   \n",
       " 14  15.0        Jalen McDaniels  26.0  34   0.0    299    35   106  0.330   \n",
       " 15  16.0          Jontay Porter  24.0  17   5.0    221    26    70  0.371   \n",
       " 16  17.0        Otto Porter Jr.  30.0  15   1.0    174    14    33  0.424   \n",
       " 17  18.0           Jordan Nwora  25.0  12   1.0    143    20    52  0.385   \n",
       " 18  19.0           Kelly Olynyk  32.0   6   0.0    114    19    39  0.487   \n",
       " 19  20.0           Ochai Agbaji  23.0   6   0.0     93    15    33  0.455   \n",
       " 20  21.0         Garrett Temple  37.0  16   0.0     69     8    21  0.381   \n",
       " 21  22.0       Mouhamadou Gueye  25.0   1   0.0      6     1     3  0.333   \n",
       " 22  23.0        Markquis Nowell  24.0   1   0.0      4     0     1  0.000   \n",
       " 23  24.0         Ron Harper Jr.  23.0   1   0.0      4     0     0    NaN   \n",
       " 24  25.0  Javon Freeman-Liberty  24.0   2   0.0      4     1     3  0.333   \n",
       " 25  26.0            D.J. Carton  23.0   1   0.0      4     1     1  1.000   \n",
       " 26  27.0         Kira Lewis Jr.  22.0   1   0.0      2     0     0    NaN   \n",
       " 27   NaN                    NaN   NaN  58   NaN  14020  2498  5225  0.478   \n",
       " \n",
       "      3P  ...    FT%  ORB   DRB   TRB   AST  STL  BLK  TOV    PF   PTS  \n",
       " 0    99  ...  0.786  136   341   477   353   71   87  159   115  1162  \n",
       " 1    77  ...  0.852   22   118   140   313   46    8   83   105   698  \n",
       " 2   127  ...  0.700   14   107   121    82   49    8   36    69   622  \n",
       " 3    46  ...  0.758   54   192   246   190   32   10   83    87   865  \n",
       " 4     0  ...  0.559  137   269   406   116   30   72   74   138   521  \n",
       " 5    61  ...  0.717   24    82   106    72   28   13   43    62   408  \n",
       " 6    66  ...  0.833    8    90    98   126   18    4   32    44   391  \n",
       " 7    30  ...  0.608   23   115   138    79   13    8   44    58   426  \n",
       " 8    29  ...  0.753   56   132   188    19   14   21   22    63   293  \n",
       " 9    42  ...  0.920   17    50    67    42   19    0   22    48   229  \n",
       " 10   28  ...  0.773   13    52    65    73   18    6   33    42   157  \n",
       " 11    9  ...  1.000   15    52    67    38   13    8   16    34   154  \n",
       " 12   13  ...  0.571   50    86   136    44   16   12   29    40   193  \n",
       " 13    1  ...  0.417   29    46    75    50   18    3   11    38   114  \n",
       " 14   11  ...  0.700    9    33    42    17   11    3   18    30    95  \n",
       " 15   12  ...  0.917   17    37    54    30   12   11   10    28    75  \n",
       " 16    8  ...  1.000    6    23    29     8    5    5    2    19    39  \n",
       " 17    9  ...  0.905    5    22    27    16    6    2    7    14    68  \n",
       " 18    3  ...  0.857    7    17    24    17    8    3    5    17    53  \n",
       " 19    6  ...  0.857    4     6    10     6    3    2    7     7    42  \n",
       " 20    2  ...  0.833    5     6    11     6    3    0    5     6    23  \n",
       " 21    0  ...    NaN    2     1     3     0    0    2    0     1     2  \n",
       " 22    0  ...  1.000    2     0     2     2    1    0    0     0     2  \n",
       " 23    0  ...    NaN    0     0     0     1    0    0    0     2     0  \n",
       " 24    0  ...    NaN    1     0     1     0    0    0    0     0     2  \n",
       " 25    0  ...  1.000    0     1     1     0    0    0    0     2     3  \n",
       " 26    0  ...    NaN    0     0     0     0    0    0    0     1     0  \n",
       " 27  679  ...  0.751  656  1878  2534  1700  434  288  776  1070  6637  \n",
       " \n",
       " [28 rows x 28 columns],\n",
       "     Rk                 Player  Age   G    MP   PER    TS%   3PAr    FTr  ORB%  \\\n",
       " 0    1         Scottie Barnes   22  58  2040  19.5  0.568  0.313  0.272   7.2   \n",
       " 1    2        Dennis Schröder   30  51  1559  13.9  0.559  0.394  0.267   1.5   \n",
       " 2    3         Gary Trent Jr.   25  53  1409  10.6  0.546  0.560  0.091   1.1   \n",
       " 3    4          Pascal Siakam   29  39  1354  18.8  0.600  0.233  0.358   4.3   \n",
       " 4    5           Jakob Poeltl   28  47  1250  18.6  0.660  0.000  0.291  11.9   \n",
       " 5    6             OG Anunoby   26  27   900  12.6  0.598  0.508  0.143   2.9   \n",
       " 6    7      Immanuel Quickley   24  23   745  14.7  0.551  0.472  0.202   1.2   \n",
       " 7    8             RJ Barrett   23  21   702  17.0  0.611  0.257  0.336   3.5   \n",
       " 8    9          Chris Boucher   31  47   645  15.7  0.607  0.441  0.417   9.4   \n",
       " 9   10            Gradey Dick   20  37   581  10.5  0.578  0.588  0.134   3.2   \n",
       " 10  11          Malachi Flynn   25  31   474  10.0  0.535  0.584  0.161   3.0   \n",
       " 11  12            Bruce Brown   27  17   438  10.8  0.534  0.246  0.172   3.7   \n",
       " 12  13       Precious Achiuwa   24  25   437  15.0  0.512  0.276  0.247  12.4   \n",
       " 13  14         Thaddeus Young   35  23   350  16.0  0.618  0.069  0.138   9.0   \n",
       " 14  15        Jalen McDaniels   26  34   299   4.2  0.414  0.500  0.189   3.3   \n",
       " 15  16          Jontay Porter   24  17   221  14.2  0.498  0.529  0.171   8.3   \n",
       " 16  17        Otto Porter Jr.   30  15   174   8.7  0.568  0.697  0.091   3.7   \n",
       " 17  18           Jordan Nwora   25  12   143  14.2  0.555  0.481  0.404   3.8   \n",
       " 18  19           Kelly Olynyk   32   6   114  18.4  0.587  0.308  0.359   6.6   \n",
       " 19  20           Ochai Agbaji   23   6    93  10.9  0.582  0.515  0.212   4.7   \n",
       " 20  21         Garrett Temple   37  16    69   8.4  0.486  0.429  0.286   7.8   \n",
       " 21  22       Mouhamadou Gueye   25   1     6  23.6  0.333  0.000  0.000  36.0   \n",
       " 22  23        Markquis Nowell   24   1     4  55.5  0.532  0.000  2.000  54.1   \n",
       " 23  24         Ron Harper Jr.   23   1     4   0.0    NaN    NaN    NaN   0.0   \n",
       " 24  25  Javon Freeman-Liberty   24   2     4   8.0  0.333  0.000  0.000  27.0   \n",
       " 25  26            D.J. Carton   23   1     4  22.7  1.042  0.000  1.000   0.0   \n",
       " 26  27         Kira Lewis Jr.   22   1     2  -7.3    NaN    NaN    NaN   0.0   \n",
       " \n",
       "     ...  Unnamed: 17  OWS  DWS   WS  WS/48  Unnamed: 22  OBPM  DBPM   BPM  \\\n",
       " 0   ...          NaN  2.5  2.2  4.7  0.112          NaN   2.9   0.9   3.8   \n",
       " 1   ...          NaN  2.0  0.7  2.8  0.085          NaN  -0.6  -1.2  -1.7   \n",
       " 2   ...          NaN  0.3  0.8  1.1  0.037          NaN  -2.0  -1.2  -3.2   \n",
       " 3   ...          NaN  2.4  0.9  3.3  0.116          NaN   2.1  -0.7   1.3   \n",
       " 4   ...          NaN  2.2  1.5  3.7  0.144          NaN  -0.4   1.0   0.6   \n",
       " 5   ...          NaN  0.6  0.6  1.1  0.060          NaN  -0.9  -0.6  -1.5   \n",
       " 6   ...          NaN  0.9  0.4  1.3  0.084          NaN   0.7  -1.5  -0.7   \n",
       " 7   ...          NaN  0.8  0.5  1.3  0.088          NaN   0.9  -1.1  -0.2   \n",
       " 8   ...          NaN  1.0  0.6  1.6  0.123          NaN  -0.5  -1.3  -1.9   \n",
       " 9   ...          NaN  0.4  0.3  0.7  0.056          NaN  -2.3  -1.1  -3.4   \n",
       " 10  ...          NaN  0.0  0.4  0.3  0.033          NaN  -2.8   0.2  -2.6   \n",
       " 11  ...          NaN  0.2  0.3  0.5  0.054          NaN  -3.3  -0.7  -4.0   \n",
       " 12  ...          NaN  0.0  0.5  0.5  0.057          NaN  -1.4  -0.1  -1.5   \n",
       " 13  ...          NaN  0.7  0.3  1.1  0.146          NaN  -0.3   0.9   0.6   \n",
       " 14  ...          NaN -0.7  0.2 -0.5 -0.077          NaN  -7.5  -1.6  -9.1   \n",
       " 15  ...          NaN  0.1  0.3  0.4  0.097          NaN  -1.3   1.5   0.3   \n",
       " 16  ...          NaN  0.1  0.1  0.3  0.079          NaN  -3.5   0.4  -3.1   \n",
       " 17  ...          NaN  0.1  0.1  0.3  0.096          NaN  -1.2  -0.6  -1.8   \n",
       " 18  ...          NaN  0.2  0.2  0.4  0.165          NaN   0.1   3.2   3.3   \n",
       " 19  ...          NaN  0.0  0.1  0.0  0.022          NaN  -2.4  -0.9  -3.3   \n",
       " 20  ...          NaN -0.1  0.0  0.0 -0.004          NaN  -4.6  -1.8  -6.4   \n",
       " 21  ...          NaN  0.0  0.0  0.0  0.116          NaN  -0.4   1.6   1.2   \n",
       " 22  ...          NaN  0.0  0.0  0.1  0.679          NaN  29.1  14.4  43.6   \n",
       " 23  ...          NaN  0.0  0.0  0.0  0.096          NaN -11.7   3.1  -8.6   \n",
       " 24  ...          NaN  0.0  0.0  0.0 -0.152          NaN  -8.1  -9.5 -17.6   \n",
       " 25  ...          NaN  0.0  0.0  0.0  0.358          NaN  -5.1   5.5   0.4   \n",
       " 26  ...          NaN  0.0  0.0  0.0 -0.003          NaN -22.1   0.0 -22.1   \n",
       " \n",
       "     VORP  \n",
       " 0    3.0  \n",
       " 1    0.1  \n",
       " 2   -0.4  \n",
       " 3    1.2  \n",
       " 4    0.8  \n",
       " 5    0.1  \n",
       " 6    0.2  \n",
       " 7    0.3  \n",
       " 8    0.0  \n",
       " 9   -0.2  \n",
       " 10  -0.1  \n",
       " 11  -0.2  \n",
       " 12   0.1  \n",
       " 13   0.2  \n",
       " 14  -0.5  \n",
       " 15   0.1  \n",
       " 16  -0.1  \n",
       " 17   0.0  \n",
       " 18   0.2  \n",
       " 19   0.0  \n",
       " 20  -0.1  \n",
       " 21   0.0  \n",
       " 22   0.0  \n",
       " 23   0.0  \n",
       " 24   0.0  \n",
       " 25   0.0  \n",
       " 26   0.0  \n",
       " \n",
       " [27 rows x 27 columns]]"
      ]
     },
     "execution_count": 60,
     "metadata": {},
     "output_type": "execute_result"
    }
   ],
   "source": [
    "df_html = pd.read_html('https://www.basketball-reference.com/teams/TOR/2024.html')\n",
    "df_html"
   ]
  },
  {
   "cell_type": "code",
   "execution_count": 61,
   "metadata": {},
   "outputs": [
    {
     "data": {
      "text/plain": [
       "list"
      ]
     },
     "execution_count": 61,
     "metadata": {},
     "output_type": "execute_result"
    }
   ],
   "source": [
    "# read_html returns a list \n",
    "type(df_html)"
   ]
  },
  {
   "cell_type": "code",
   "execution_count": 62,
   "metadata": {},
   "outputs": [
    {
     "data": {
      "text/plain": [
       "pandas.core.frame.DataFrame"
      ]
     },
     "execution_count": 62,
     "metadata": {},
     "output_type": "execute_result"
    }
   ],
   "source": [
    "# 3rd element of the list is the dataframe\n",
    "type(df_html[2])"
   ]
  },
  {
   "cell_type": "code",
   "execution_count": 63,
   "metadata": {},
   "outputs": [
    {
     "data": {
      "text/html": [
       "<div>\n",
       "<style scoped>\n",
       "    .dataframe tbody tr th:only-of-type {\n",
       "        vertical-align: middle;\n",
       "    }\n",
       "\n",
       "    .dataframe tbody tr th {\n",
       "        vertical-align: top;\n",
       "    }\n",
       "\n",
       "    .dataframe thead th {\n",
       "        text-align: right;\n",
       "    }\n",
       "</style>\n",
       "<table border=\"1\" class=\"dataframe\">\n",
       "  <thead>\n",
       "    <tr style=\"text-align: right;\">\n",
       "      <th></th>\n",
       "      <th>Rk</th>\n",
       "      <th>Player</th>\n",
       "      <th>Age</th>\n",
       "      <th>G</th>\n",
       "      <th>GS</th>\n",
       "      <th>MP</th>\n",
       "      <th>FG</th>\n",
       "      <th>FGA</th>\n",
       "      <th>FG%</th>\n",
       "      <th>3P</th>\n",
       "      <th>...</th>\n",
       "      <th>FT%</th>\n",
       "      <th>ORB</th>\n",
       "      <th>DRB</th>\n",
       "      <th>TRB</th>\n",
       "      <th>AST</th>\n",
       "      <th>STL</th>\n",
       "      <th>BLK</th>\n",
       "      <th>TOV</th>\n",
       "      <th>PF</th>\n",
       "      <th>PTS</th>\n",
       "    </tr>\n",
       "  </thead>\n",
       "  <tbody>\n",
       "    <tr>\n",
       "      <th>0</th>\n",
       "      <td>1.0</td>\n",
       "      <td>Scottie Barnes</td>\n",
       "      <td>22.0</td>\n",
       "      <td>58</td>\n",
       "      <td>58.0</td>\n",
       "      <td>2040</td>\n",
       "      <td>434</td>\n",
       "      <td>913</td>\n",
       "      <td>0.475</td>\n",
       "      <td>99</td>\n",
       "      <td>...</td>\n",
       "      <td>0.786</td>\n",
       "      <td>136</td>\n",
       "      <td>341</td>\n",
       "      <td>477</td>\n",
       "      <td>353</td>\n",
       "      <td>71</td>\n",
       "      <td>87</td>\n",
       "      <td>159</td>\n",
       "      <td>115</td>\n",
       "      <td>1162</td>\n",
       "    </tr>\n",
       "    <tr>\n",
       "      <th>1</th>\n",
       "      <td>2.0</td>\n",
       "      <td>Dennis Schröder</td>\n",
       "      <td>30.0</td>\n",
       "      <td>51</td>\n",
       "      <td>33.0</td>\n",
       "      <td>1559</td>\n",
       "      <td>247</td>\n",
       "      <td>559</td>\n",
       "      <td>0.442</td>\n",
       "      <td>77</td>\n",
       "      <td>...</td>\n",
       "      <td>0.852</td>\n",
       "      <td>22</td>\n",
       "      <td>118</td>\n",
       "      <td>140</td>\n",
       "      <td>313</td>\n",
       "      <td>46</td>\n",
       "      <td>8</td>\n",
       "      <td>83</td>\n",
       "      <td>105</td>\n",
       "      <td>698</td>\n",
       "    </tr>\n",
       "    <tr>\n",
       "      <th>2</th>\n",
       "      <td>3.0</td>\n",
       "      <td>Gary Trent Jr.</td>\n",
       "      <td>25.0</td>\n",
       "      <td>53</td>\n",
       "      <td>23.0</td>\n",
       "      <td>1409</td>\n",
       "      <td>230</td>\n",
       "      <td>548</td>\n",
       "      <td>0.420</td>\n",
       "      <td>127</td>\n",
       "      <td>...</td>\n",
       "      <td>0.700</td>\n",
       "      <td>14</td>\n",
       "      <td>107</td>\n",
       "      <td>121</td>\n",
       "      <td>82</td>\n",
       "      <td>49</td>\n",
       "      <td>8</td>\n",
       "      <td>36</td>\n",
       "      <td>69</td>\n",
       "      <td>622</td>\n",
       "    </tr>\n",
       "    <tr>\n",
       "      <th>3</th>\n",
       "      <td>4.0</td>\n",
       "      <td>Pascal Siakam</td>\n",
       "      <td>29.0</td>\n",
       "      <td>39</td>\n",
       "      <td>39.0</td>\n",
       "      <td>1354</td>\n",
       "      <td>325</td>\n",
       "      <td>623</td>\n",
       "      <td>0.522</td>\n",
       "      <td>46</td>\n",
       "      <td>...</td>\n",
       "      <td>0.758</td>\n",
       "      <td>54</td>\n",
       "      <td>192</td>\n",
       "      <td>246</td>\n",
       "      <td>190</td>\n",
       "      <td>32</td>\n",
       "      <td>10</td>\n",
       "      <td>83</td>\n",
       "      <td>87</td>\n",
       "      <td>865</td>\n",
       "    </tr>\n",
       "    <tr>\n",
       "      <th>4</th>\n",
       "      <td>5.0</td>\n",
       "      <td>Jakob Poeltl</td>\n",
       "      <td>28.0</td>\n",
       "      <td>47</td>\n",
       "      <td>47.0</td>\n",
       "      <td>1250</td>\n",
       "      <td>232</td>\n",
       "      <td>350</td>\n",
       "      <td>0.663</td>\n",
       "      <td>0</td>\n",
       "      <td>...</td>\n",
       "      <td>0.559</td>\n",
       "      <td>137</td>\n",
       "      <td>269</td>\n",
       "      <td>406</td>\n",
       "      <td>116</td>\n",
       "      <td>30</td>\n",
       "      <td>72</td>\n",
       "      <td>74</td>\n",
       "      <td>138</td>\n",
       "      <td>521</td>\n",
       "    </tr>\n",
       "  </tbody>\n",
       "</table>\n",
       "<p>5 rows × 28 columns</p>\n",
       "</div>"
      ],
      "text/plain": [
       "    Rk           Player   Age   G    GS    MP   FG  FGA    FG%   3P  ...  \\\n",
       "0  1.0   Scottie Barnes  22.0  58  58.0  2040  434  913  0.475   99  ...   \n",
       "1  2.0  Dennis Schröder  30.0  51  33.0  1559  247  559  0.442   77  ...   \n",
       "2  3.0   Gary Trent Jr.  25.0  53  23.0  1409  230  548  0.420  127  ...   \n",
       "3  4.0    Pascal Siakam  29.0  39  39.0  1354  325  623  0.522   46  ...   \n",
       "4  5.0     Jakob Poeltl  28.0  47  47.0  1250  232  350  0.663    0  ...   \n",
       "\n",
       "     FT%  ORB  DRB  TRB  AST  STL  BLK  TOV   PF   PTS  \n",
       "0  0.786  136  341  477  353   71   87  159  115  1162  \n",
       "1  0.852   22  118  140  313   46    8   83  105   698  \n",
       "2  0.700   14  107  121   82   49    8   36   69   622  \n",
       "3  0.758   54  192  246  190   32   10   83   87   865  \n",
       "4  0.559  137  269  406  116   30   72   74  138   521  \n",
       "\n",
       "[5 rows x 28 columns]"
      ]
     },
     "execution_count": 63,
     "metadata": {},
     "output_type": "execute_result"
    }
   ],
   "source": [
    "df = df_html[2]\n",
    "df.head()"
   ]
  },
  {
   "cell_type": "markdown",
   "metadata": {},
   "source": [
    "### Using Requests Library in Python\n"
   ]
  },
  {
   "cell_type": "markdown",
   "metadata": {},
   "source": [
    "The `requests` library is a popular HTTP library for Python, used to make HTTP requests and handle responses easily.\n",
    "\n",
    "**Installation**\n",
    "\n",
    "You can install the `requests` library using pip:\n",
    "\n",
    "```bash\n",
    "pip install requests"
   ]
  },
  {
   "cell_type": "code",
   "execution_count": 64,
   "metadata": {},
   "outputs": [
    {
     "name": "stdout",
     "output_type": "stream",
     "text": [
      "Requirement already satisfied: requests in c:\\users\\harsh\\miniconda3\\envs\\test\\lib\\site-packages (2.31.0)\n",
      "Requirement already satisfied: charset-normalizer<4,>=2 in c:\\users\\harsh\\miniconda3\\envs\\test\\lib\\site-packages (from requests) (3.3.2)\n",
      "Requirement already satisfied: idna<4,>=2.5 in c:\\users\\harsh\\miniconda3\\envs\\test\\lib\\site-packages (from requests) (3.6)\n",
      "Requirement already satisfied: urllib3<3,>=1.21.1 in c:\\users\\harsh\\miniconda3\\envs\\test\\lib\\site-packages (from requests) (2.2.1)\n",
      "Requirement already satisfied: certifi>=2017.4.17 in c:\\users\\harsh\\miniconda3\\envs\\test\\lib\\site-packages (from requests) (2024.2.2)\n"
     ]
    }
   ],
   "source": [
    "! pip install requests"
   ]
  },
  {
   "cell_type": "code",
   "execution_count": 65,
   "metadata": {},
   "outputs": [
    {
     "data": {
      "text/plain": [
       "30"
      ]
     },
     "execution_count": 65,
     "metadata": {},
     "output_type": "execute_result"
    }
   ],
   "source": [
    "# JSON data using URL\n",
    "import requests\n",
    "res = requests.get('https://api.github.com/repos/pandas-dev/pandas/issues')\n",
    "data = res.json()\n",
    "len(data)"
   ]
  },
  {
   "cell_type": "code",
   "execution_count": 66,
   "metadata": {},
   "outputs": [
    {
     "name": "stdout",
     "output_type": "stream",
     "text": [
      "https://api.github.com/repos/pandas-dev/pandas/issues/57672\n",
      "https://api.github.com/repos/pandas-dev/pandas/issues/57671\n",
      "https://api.github.com/repos/pandas-dev/pandas/issues/57670\n",
      "https://api.github.com/repos/pandas-dev/pandas/issues/57668\n",
      "https://api.github.com/repos/pandas-dev/pandas/issues/57666\n",
      "https://api.github.com/repos/pandas-dev/pandas/issues/57665\n",
      "https://api.github.com/repos/pandas-dev/pandas/issues/57664\n",
      "https://api.github.com/repos/pandas-dev/pandas/issues/57663\n",
      "https://api.github.com/repos/pandas-dev/pandas/issues/57662\n",
      "https://api.github.com/repos/pandas-dev/pandas/issues/57661\n",
      "https://api.github.com/repos/pandas-dev/pandas/issues/57660\n",
      "https://api.github.com/repos/pandas-dev/pandas/issues/57659\n",
      "https://api.github.com/repos/pandas-dev/pandas/issues/57657\n",
      "https://api.github.com/repos/pandas-dev/pandas/issues/57656\n",
      "https://api.github.com/repos/pandas-dev/pandas/issues/57651\n",
      "https://api.github.com/repos/pandas-dev/pandas/issues/57648\n",
      "https://api.github.com/repos/pandas-dev/pandas/issues/57647\n",
      "https://api.github.com/repos/pandas-dev/pandas/issues/57646\n",
      "https://api.github.com/repos/pandas-dev/pandas/issues/57645\n",
      "https://api.github.com/repos/pandas-dev/pandas/issues/57644\n",
      "https://api.github.com/repos/pandas-dev/pandas/issues/57643\n",
      "https://api.github.com/repos/pandas-dev/pandas/issues/57642\n",
      "https://api.github.com/repos/pandas-dev/pandas/issues/57637\n",
      "https://api.github.com/repos/pandas-dev/pandas/issues/57636\n",
      "https://api.github.com/repos/pandas-dev/pandas/issues/57635\n",
      "https://api.github.com/repos/pandas-dev/pandas/issues/57634\n",
      "https://api.github.com/repos/pandas-dev/pandas/issues/57633\n",
      "https://api.github.com/repos/pandas-dev/pandas/issues/57632\n",
      "https://api.github.com/repos/pandas-dev/pandas/issues/57629\n",
      "https://api.github.com/repos/pandas-dev/pandas/issues/57627\n"
     ]
    }
   ],
   "source": [
    "for i in range(len(data)):\n",
    "    print(data[i]['url'])"
   ]
  },
  {
   "cell_type": "code",
   "execution_count": 67,
   "metadata": {},
   "outputs": [
    {
     "data": {
      "text/html": [
       "<div>\n",
       "<style scoped>\n",
       "    .dataframe tbody tr th:only-of-type {\n",
       "        vertical-align: middle;\n",
       "    }\n",
       "\n",
       "    .dataframe tbody tr th {\n",
       "        vertical-align: top;\n",
       "    }\n",
       "\n",
       "    .dataframe thead th {\n",
       "        text-align: right;\n",
       "    }\n",
       "</style>\n",
       "<table border=\"1\" class=\"dataframe\">\n",
       "  <thead>\n",
       "    <tr style=\"text-align: right;\">\n",
       "      <th></th>\n",
       "      <th>url</th>\n",
       "      <th>repository_url</th>\n",
       "      <th>labels_url</th>\n",
       "      <th>comments_url</th>\n",
       "      <th>events_url</th>\n",
       "      <th>html_url</th>\n",
       "      <th>id</th>\n",
       "      <th>node_id</th>\n",
       "      <th>number</th>\n",
       "      <th>title</th>\n",
       "      <th>...</th>\n",
       "      <th>closed_at</th>\n",
       "      <th>author_association</th>\n",
       "      <th>active_lock_reason</th>\n",
       "      <th>body</th>\n",
       "      <th>reactions</th>\n",
       "      <th>timeline_url</th>\n",
       "      <th>performed_via_github_app</th>\n",
       "      <th>state_reason</th>\n",
       "      <th>draft</th>\n",
       "      <th>pull_request</th>\n",
       "    </tr>\n",
       "  </thead>\n",
       "  <tbody>\n",
       "    <tr>\n",
       "      <th>0</th>\n",
       "      <td>https://api.github.com/repos/pandas-dev/pandas...</td>\n",
       "      <td>https://api.github.com/repos/pandas-dev/pandas</td>\n",
       "      <td>https://api.github.com/repos/pandas-dev/pandas...</td>\n",
       "      <td>https://api.github.com/repos/pandas-dev/pandas...</td>\n",
       "      <td>https://api.github.com/repos/pandas-dev/pandas...</td>\n",
       "      <td>https://github.com/pandas-dev/pandas/issues/57672</td>\n",
       "      <td>2160456617</td>\n",
       "      <td>I_kwDOAA0YD86AxfOp</td>\n",
       "      <td>57672</td>\n",
       "      <td>BUG: List of years (as string) raises UserWarn...</td>\n",
       "      <td>...</td>\n",
       "      <td>None</td>\n",
       "      <td>CONTRIBUTOR</td>\n",
       "      <td>None</td>\n",
       "      <td>### Pandas version checks\\n\\n- [X] I have chec...</td>\n",
       "      <td>{'url': 'https://api.github.com/repos/pandas-d...</td>\n",
       "      <td>https://api.github.com/repos/pandas-dev/pandas...</td>\n",
       "      <td>None</td>\n",
       "      <td>None</td>\n",
       "      <td>NaN</td>\n",
       "      <td>NaN</td>\n",
       "    </tr>\n",
       "    <tr>\n",
       "      <th>1</th>\n",
       "      <td>https://api.github.com/repos/pandas-dev/pandas...</td>\n",
       "      <td>https://api.github.com/repos/pandas-dev/pandas</td>\n",
       "      <td>https://api.github.com/repos/pandas-dev/pandas...</td>\n",
       "      <td>https://api.github.com/repos/pandas-dev/pandas...</td>\n",
       "      <td>https://api.github.com/repos/pandas-dev/pandas...</td>\n",
       "      <td>https://github.com/pandas-dev/pandas/pull/57671</td>\n",
       "      <td>2160328911</td>\n",
       "      <td>PR_kwDOAA0YD85oPp4V</td>\n",
       "      <td>57671</td>\n",
       "      <td>CLN: Enforce deprecation of pinning name in Se...</td>\n",
       "      <td>...</td>\n",
       "      <td>None</td>\n",
       "      <td>MEMBER</td>\n",
       "      <td>None</td>\n",
       "      <td>- [ ] closes #xxxx (Replace xxxx with the GitH...</td>\n",
       "      <td>{'url': 'https://api.github.com/repos/pandas-d...</td>\n",
       "      <td>https://api.github.com/repos/pandas-dev/pandas...</td>\n",
       "      <td>None</td>\n",
       "      <td>None</td>\n",
       "      <td>False</td>\n",
       "      <td>{'url': 'https://api.github.com/repos/pandas-d...</td>\n",
       "    </tr>\n",
       "    <tr>\n",
       "      <th>2</th>\n",
       "      <td>https://api.github.com/repos/pandas-dev/pandas...</td>\n",
       "      <td>https://api.github.com/repos/pandas-dev/pandas</td>\n",
       "      <td>https://api.github.com/repos/pandas-dev/pandas...</td>\n",
       "      <td>https://api.github.com/repos/pandas-dev/pandas...</td>\n",
       "      <td>https://api.github.com/repos/pandas-dev/pandas...</td>\n",
       "      <td>https://github.com/pandas-dev/pandas/pull/57670</td>\n",
       "      <td>2160265182</td>\n",
       "      <td>PR_kwDOAA0YD85oPciS</td>\n",
       "      <td>57670</td>\n",
       "      <td>DOC: Update drop duplicates documentation to s...</td>\n",
       "      <td>...</td>\n",
       "      <td>None</td>\n",
       "      <td>NONE</td>\n",
       "      <td>None</td>\n",
       "      <td>- [x] closes #56784 \\r\\n- [x] All [code checks...</td>\n",
       "      <td>{'url': 'https://api.github.com/repos/pandas-d...</td>\n",
       "      <td>https://api.github.com/repos/pandas-dev/pandas...</td>\n",
       "      <td>None</td>\n",
       "      <td>None</td>\n",
       "      <td>False</td>\n",
       "      <td>{'url': 'https://api.github.com/repos/pandas-d...</td>\n",
       "    </tr>\n",
       "    <tr>\n",
       "      <th>3</th>\n",
       "      <td>https://api.github.com/repos/pandas-dev/pandas...</td>\n",
       "      <td>https://api.github.com/repos/pandas-dev/pandas</td>\n",
       "      <td>https://api.github.com/repos/pandas-dev/pandas...</td>\n",
       "      <td>https://api.github.com/repos/pandas-dev/pandas...</td>\n",
       "      <td>https://api.github.com/repos/pandas-dev/pandas...</td>\n",
       "      <td>https://github.com/pandas-dev/pandas/pull/57668</td>\n",
       "      <td>2160053175</td>\n",
       "      <td>PR_kwDOAA0YD85oOv9x</td>\n",
       "      <td>57668</td>\n",
       "      <td>CLN: More numpy 2 stuff</td>\n",
       "      <td>...</td>\n",
       "      <td>None</td>\n",
       "      <td>MEMBER</td>\n",
       "      <td>None</td>\n",
       "      <td>- [ ] closes #xxxx (Replace xxxx with the GitH...</td>\n",
       "      <td>{'url': 'https://api.github.com/repos/pandas-d...</td>\n",
       "      <td>https://api.github.com/repos/pandas-dev/pandas...</td>\n",
       "      <td>None</td>\n",
       "      <td>None</td>\n",
       "      <td>False</td>\n",
       "      <td>{'url': 'https://api.github.com/repos/pandas-d...</td>\n",
       "    </tr>\n",
       "    <tr>\n",
       "      <th>4</th>\n",
       "      <td>https://api.github.com/repos/pandas-dev/pandas...</td>\n",
       "      <td>https://api.github.com/repos/pandas-dev/pandas</td>\n",
       "      <td>https://api.github.com/repos/pandas-dev/pandas...</td>\n",
       "      <td>https://api.github.com/repos/pandas-dev/pandas...</td>\n",
       "      <td>https://api.github.com/repos/pandas-dev/pandas...</td>\n",
       "      <td>https://github.com/pandas-dev/pandas/issues/57666</td>\n",
       "      <td>2159798305</td>\n",
       "      <td>I_kwDOAA0YD86Au-gh</td>\n",
       "      <td>57666</td>\n",
       "      <td>BUG: pyarrow stripping leading zeros with dtyp...</td>\n",
       "      <td>...</td>\n",
       "      <td>None</td>\n",
       "      <td>NONE</td>\n",
       "      <td>None</td>\n",
       "      <td>### Pandas version checks\\n\\n- [X] I have chec...</td>\n",
       "      <td>{'url': 'https://api.github.com/repos/pandas-d...</td>\n",
       "      <td>https://api.github.com/repos/pandas-dev/pandas...</td>\n",
       "      <td>None</td>\n",
       "      <td>None</td>\n",
       "      <td>NaN</td>\n",
       "      <td>NaN</td>\n",
       "    </tr>\n",
       "  </tbody>\n",
       "</table>\n",
       "<p>5 rows × 30 columns</p>\n",
       "</div>"
      ],
      "text/plain": [
       "                                                 url  \\\n",
       "0  https://api.github.com/repos/pandas-dev/pandas...   \n",
       "1  https://api.github.com/repos/pandas-dev/pandas...   \n",
       "2  https://api.github.com/repos/pandas-dev/pandas...   \n",
       "3  https://api.github.com/repos/pandas-dev/pandas...   \n",
       "4  https://api.github.com/repos/pandas-dev/pandas...   \n",
       "\n",
       "                                   repository_url  \\\n",
       "0  https://api.github.com/repos/pandas-dev/pandas   \n",
       "1  https://api.github.com/repos/pandas-dev/pandas   \n",
       "2  https://api.github.com/repos/pandas-dev/pandas   \n",
       "3  https://api.github.com/repos/pandas-dev/pandas   \n",
       "4  https://api.github.com/repos/pandas-dev/pandas   \n",
       "\n",
       "                                          labels_url  \\\n",
       "0  https://api.github.com/repos/pandas-dev/pandas...   \n",
       "1  https://api.github.com/repos/pandas-dev/pandas...   \n",
       "2  https://api.github.com/repos/pandas-dev/pandas...   \n",
       "3  https://api.github.com/repos/pandas-dev/pandas...   \n",
       "4  https://api.github.com/repos/pandas-dev/pandas...   \n",
       "\n",
       "                                        comments_url  \\\n",
       "0  https://api.github.com/repos/pandas-dev/pandas...   \n",
       "1  https://api.github.com/repos/pandas-dev/pandas...   \n",
       "2  https://api.github.com/repos/pandas-dev/pandas...   \n",
       "3  https://api.github.com/repos/pandas-dev/pandas...   \n",
       "4  https://api.github.com/repos/pandas-dev/pandas...   \n",
       "\n",
       "                                          events_url  \\\n",
       "0  https://api.github.com/repos/pandas-dev/pandas...   \n",
       "1  https://api.github.com/repos/pandas-dev/pandas...   \n",
       "2  https://api.github.com/repos/pandas-dev/pandas...   \n",
       "3  https://api.github.com/repos/pandas-dev/pandas...   \n",
       "4  https://api.github.com/repos/pandas-dev/pandas...   \n",
       "\n",
       "                                            html_url          id  \\\n",
       "0  https://github.com/pandas-dev/pandas/issues/57672  2160456617   \n",
       "1    https://github.com/pandas-dev/pandas/pull/57671  2160328911   \n",
       "2    https://github.com/pandas-dev/pandas/pull/57670  2160265182   \n",
       "3    https://github.com/pandas-dev/pandas/pull/57668  2160053175   \n",
       "4  https://github.com/pandas-dev/pandas/issues/57666  2159798305   \n",
       "\n",
       "               node_id  number  \\\n",
       "0   I_kwDOAA0YD86AxfOp   57672   \n",
       "1  PR_kwDOAA0YD85oPp4V   57671   \n",
       "2  PR_kwDOAA0YD85oPciS   57670   \n",
       "3  PR_kwDOAA0YD85oOv9x   57668   \n",
       "4   I_kwDOAA0YD86Au-gh   57666   \n",
       "\n",
       "                                               title  ... closed_at  \\\n",
       "0  BUG: List of years (as string) raises UserWarn...  ...      None   \n",
       "1  CLN: Enforce deprecation of pinning name in Se...  ...      None   \n",
       "2  DOC: Update drop duplicates documentation to s...  ...      None   \n",
       "3                            CLN: More numpy 2 stuff  ...      None   \n",
       "4  BUG: pyarrow stripping leading zeros with dtyp...  ...      None   \n",
       "\n",
       "  author_association active_lock_reason  \\\n",
       "0        CONTRIBUTOR               None   \n",
       "1             MEMBER               None   \n",
       "2               NONE               None   \n",
       "3             MEMBER               None   \n",
       "4               NONE               None   \n",
       "\n",
       "                                                body  \\\n",
       "0  ### Pandas version checks\\n\\n- [X] I have chec...   \n",
       "1  - [ ] closes #xxxx (Replace xxxx with the GitH...   \n",
       "2  - [x] closes #56784 \\r\\n- [x] All [code checks...   \n",
       "3  - [ ] closes #xxxx (Replace xxxx with the GitH...   \n",
       "4  ### Pandas version checks\\n\\n- [X] I have chec...   \n",
       "\n",
       "                                           reactions  \\\n",
       "0  {'url': 'https://api.github.com/repos/pandas-d...   \n",
       "1  {'url': 'https://api.github.com/repos/pandas-d...   \n",
       "2  {'url': 'https://api.github.com/repos/pandas-d...   \n",
       "3  {'url': 'https://api.github.com/repos/pandas-d...   \n",
       "4  {'url': 'https://api.github.com/repos/pandas-d...   \n",
       "\n",
       "                                        timeline_url performed_via_github_app  \\\n",
       "0  https://api.github.com/repos/pandas-dev/pandas...                     None   \n",
       "1  https://api.github.com/repos/pandas-dev/pandas...                     None   \n",
       "2  https://api.github.com/repos/pandas-dev/pandas...                     None   \n",
       "3  https://api.github.com/repos/pandas-dev/pandas...                     None   \n",
       "4  https://api.github.com/repos/pandas-dev/pandas...                     None   \n",
       "\n",
       "   state_reason  draft                                       pull_request  \n",
       "0          None    NaN                                                NaN  \n",
       "1          None  False  {'url': 'https://api.github.com/repos/pandas-d...  \n",
       "2          None  False  {'url': 'https://api.github.com/repos/pandas-d...  \n",
       "3          None  False  {'url': 'https://api.github.com/repos/pandas-d...  \n",
       "4          None    NaN                                                NaN  \n",
       "\n",
       "[5 rows x 30 columns]"
      ]
     },
     "execution_count": 67,
     "metadata": {},
     "output_type": "execute_result"
    }
   ],
   "source": [
    "data_df = pd.DataFrame(data)\n",
    "data_df.head()"
   ]
  },
  {
   "cell_type": "code",
   "execution_count": 68,
   "metadata": {},
   "outputs": [
    {
     "data": {
      "text/plain": [
       "0    {'login': 'jrmylow', 'id': 33999325, 'node_id'...\n",
       "1    {'login': 'rhshadrach', 'id': 45562402, 'node_...\n",
       "2    {'login': 'flaviaouyang', 'id': 74445682, 'nod...\n",
       "Name: user, dtype: object"
      ]
     },
     "execution_count": 68,
     "metadata": {},
     "output_type": "execute_result"
    }
   ],
   "source": [
    "data_df['user'][:3]"
   ]
  },
  {
   "cell_type": "markdown",
   "metadata": {},
   "source": [
    "**Using `pd.DataFrame.from_records()` in Pandas**\n",
    "\n",
    "The `pd.DataFrame.from_records()` method in Pandas is used to create a DataFrame from a structured array or a sequence of tuples. It's particularly useful when you have a list of dictionaries or a structured array and you want to convert it into a DataFrame.\n",
    "\n",
    "**Usage**\n",
    "\n",
    "Suppose you have a DataFrame `data_df` with a column named `'user'`, and you want to create a new DataFrame from the values in this column. You can use `pd.DataFrame.from_records()` as follows:\n",
    "\n"
   ]
  },
  {
   "cell_type": "code",
   "execution_count": 69,
   "metadata": {},
   "outputs": [
    {
     "data": {
      "text/html": [
       "<div>\n",
       "<style scoped>\n",
       "    .dataframe tbody tr th:only-of-type {\n",
       "        vertical-align: middle;\n",
       "    }\n",
       "\n",
       "    .dataframe tbody tr th {\n",
       "        vertical-align: top;\n",
       "    }\n",
       "\n",
       "    .dataframe thead th {\n",
       "        text-align: right;\n",
       "    }\n",
       "</style>\n",
       "<table border=\"1\" class=\"dataframe\">\n",
       "  <thead>\n",
       "    <tr style=\"text-align: right;\">\n",
       "      <th></th>\n",
       "      <th>login</th>\n",
       "      <th>id</th>\n",
       "      <th>node_id</th>\n",
       "      <th>avatar_url</th>\n",
       "      <th>gravatar_id</th>\n",
       "      <th>url</th>\n",
       "      <th>html_url</th>\n",
       "      <th>followers_url</th>\n",
       "      <th>following_url</th>\n",
       "      <th>gists_url</th>\n",
       "      <th>starred_url</th>\n",
       "      <th>subscriptions_url</th>\n",
       "      <th>organizations_url</th>\n",
       "      <th>repos_url</th>\n",
       "      <th>events_url</th>\n",
       "      <th>received_events_url</th>\n",
       "      <th>type</th>\n",
       "      <th>site_admin</th>\n",
       "    </tr>\n",
       "  </thead>\n",
       "  <tbody>\n",
       "    <tr>\n",
       "      <th>0</th>\n",
       "      <td>jrmylow</td>\n",
       "      <td>33999325</td>\n",
       "      <td>MDQ6VXNlcjMzOTk5MzI1</td>\n",
       "      <td>https://avatars.githubusercontent.com/u/339993...</td>\n",
       "      <td></td>\n",
       "      <td>https://api.github.com/users/jrmylow</td>\n",
       "      <td>https://github.com/jrmylow</td>\n",
       "      <td>https://api.github.com/users/jrmylow/followers</td>\n",
       "      <td>https://api.github.com/users/jrmylow/following...</td>\n",
       "      <td>https://api.github.com/users/jrmylow/gists{/gi...</td>\n",
       "      <td>https://api.github.com/users/jrmylow/starred{/...</td>\n",
       "      <td>https://api.github.com/users/jrmylow/subscript...</td>\n",
       "      <td>https://api.github.com/users/jrmylow/orgs</td>\n",
       "      <td>https://api.github.com/users/jrmylow/repos</td>\n",
       "      <td>https://api.github.com/users/jrmylow/events{/p...</td>\n",
       "      <td>https://api.github.com/users/jrmylow/received_...</td>\n",
       "      <td>User</td>\n",
       "      <td>False</td>\n",
       "    </tr>\n",
       "    <tr>\n",
       "      <th>1</th>\n",
       "      <td>rhshadrach</td>\n",
       "      <td>45562402</td>\n",
       "      <td>MDQ6VXNlcjQ1NTYyNDAy</td>\n",
       "      <td>https://avatars.githubusercontent.com/u/455624...</td>\n",
       "      <td></td>\n",
       "      <td>https://api.github.com/users/rhshadrach</td>\n",
       "      <td>https://github.com/rhshadrach</td>\n",
       "      <td>https://api.github.com/users/rhshadrach/followers</td>\n",
       "      <td>https://api.github.com/users/rhshadrach/follow...</td>\n",
       "      <td>https://api.github.com/users/rhshadrach/gists{...</td>\n",
       "      <td>https://api.github.com/users/rhshadrach/starre...</td>\n",
       "      <td>https://api.github.com/users/rhshadrach/subscr...</td>\n",
       "      <td>https://api.github.com/users/rhshadrach/orgs</td>\n",
       "      <td>https://api.github.com/users/rhshadrach/repos</td>\n",
       "      <td>https://api.github.com/users/rhshadrach/events...</td>\n",
       "      <td>https://api.github.com/users/rhshadrach/receiv...</td>\n",
       "      <td>User</td>\n",
       "      <td>False</td>\n",
       "    </tr>\n",
       "  </tbody>\n",
       "</table>\n",
       "</div>"
      ],
      "text/plain": [
       "        login        id               node_id  \\\n",
       "0     jrmylow  33999325  MDQ6VXNlcjMzOTk5MzI1   \n",
       "1  rhshadrach  45562402  MDQ6VXNlcjQ1NTYyNDAy   \n",
       "\n",
       "                                          avatar_url gravatar_id  \\\n",
       "0  https://avatars.githubusercontent.com/u/339993...               \n",
       "1  https://avatars.githubusercontent.com/u/455624...               \n",
       "\n",
       "                                       url                       html_url  \\\n",
       "0     https://api.github.com/users/jrmylow     https://github.com/jrmylow   \n",
       "1  https://api.github.com/users/rhshadrach  https://github.com/rhshadrach   \n",
       "\n",
       "                                       followers_url  \\\n",
       "0     https://api.github.com/users/jrmylow/followers   \n",
       "1  https://api.github.com/users/rhshadrach/followers   \n",
       "\n",
       "                                       following_url  \\\n",
       "0  https://api.github.com/users/jrmylow/following...   \n",
       "1  https://api.github.com/users/rhshadrach/follow...   \n",
       "\n",
       "                                           gists_url  \\\n",
       "0  https://api.github.com/users/jrmylow/gists{/gi...   \n",
       "1  https://api.github.com/users/rhshadrach/gists{...   \n",
       "\n",
       "                                         starred_url  \\\n",
       "0  https://api.github.com/users/jrmylow/starred{/...   \n",
       "1  https://api.github.com/users/rhshadrach/starre...   \n",
       "\n",
       "                                   subscriptions_url  \\\n",
       "0  https://api.github.com/users/jrmylow/subscript...   \n",
       "1  https://api.github.com/users/rhshadrach/subscr...   \n",
       "\n",
       "                              organizations_url  \\\n",
       "0     https://api.github.com/users/jrmylow/orgs   \n",
       "1  https://api.github.com/users/rhshadrach/orgs   \n",
       "\n",
       "                                       repos_url  \\\n",
       "0     https://api.github.com/users/jrmylow/repos   \n",
       "1  https://api.github.com/users/rhshadrach/repos   \n",
       "\n",
       "                                          events_url  \\\n",
       "0  https://api.github.com/users/jrmylow/events{/p...   \n",
       "1  https://api.github.com/users/rhshadrach/events...   \n",
       "\n",
       "                                 received_events_url  type  site_admin  \n",
       "0  https://api.github.com/users/jrmylow/received_...  User       False  \n",
       "1  https://api.github.com/users/rhshadrach/receiv...  User       False  "
      ]
     },
     "execution_count": 69,
     "metadata": {},
     "output_type": "execute_result"
    }
   ],
   "source": [
    "user_df = pd.DataFrame.from_records(data_df['user'])\n",
    "user_df.head(2)"
   ]
  },
  {
   "cell_type": "markdown",
   "metadata": {},
   "source": [
    "## save"
   ]
  },
  {
   "cell_type": "markdown",
   "metadata": {},
   "source": [
    "### save as CSV file"
   ]
  },
  {
   "cell_type": "markdown",
   "metadata": {},
   "source": [
    "A CSV (comma-separated values) file is a plain text file format used to store tabular data"
   ]
  },
  {
   "cell_type": "code",
   "execution_count": 70,
   "metadata": {},
   "outputs": [],
   "source": [
    "\n",
    "reviews.to_csv(\"reviews.csv\") # save the dataframe as it is to csv\n",
    "\n",
    "reviews.to_csv(\"reviews_1.csv\", index=False) # save the dataframe as it is to csv without index\n",
    "\n",
    "reviews.to_csv(\"reviews_2.csv\", index=False, header=False) # save the dataframe as it is to csv without index and header\n",
    "\n",
    "reviews.to_csv(\"reviews_3.csv\", index=False, header=False, columns=None) # save the dataframe as it is to csv without index, header and columns\n",
    "\n",
    "reviews.to_csv(\"reviews_4.csv\", index=False, header=False, columns=None, sep=\",\") # save the dataframe as it is to csv without index, header and columns and with a separator\n",
    "\n",
    "reviews.to_csv(\"reviews_5.csv\", index=False, header=False, columns=None, sep=\",\", encoding=\"utf-8\") # save the dataframe as it is to csv without index, header and columns and with a separator and encoding\n",
    "\n",
    "reviews.to_csv(\"reviews_6.csv\",index=False,sep = \"#\", columns=['gender','age']) # save the dataframe as it is to csv without index, seperate with '#' and columns age and gender"
   ]
  },
  {
   "cell_type": "markdown",
   "metadata": {},
   "source": [
    "### Saving Data to a Pickle File \n"
   ]
  },
  {
   "cell_type": "markdown",
   "metadata": {},
   "source": [
    "In Pandas, you can save a DataFrame or Series to a Pickle file using the `to_pickle()` method. Pickle is a binary serialization format in Python that allows you to store data objects in a compact binary format.\n",
    "\n",
    "**Usage**\n",
    "\n",
    "To save a DataFrame or Series to a Pickle file, use the `to_pickle()` method:"
   ]
  },
  {
   "cell_type": "code",
   "execution_count": 71,
   "metadata": {},
   "outputs": [],
   "source": [
    "reviews.to_pickle(\"my_pickle\")"
   ]
  },
  {
   "cell_type": "markdown",
   "metadata": {},
   "source": [
    "### SAVE as excel file"
   ]
  },
  {
   "cell_type": "markdown",
   "metadata": {},
   "source": [
    "Excel files are digital spreadsheets that organize data in rows and columns, offering a versatile tool for tasks like calculations, data analysis, and information management."
   ]
  },
  {
   "cell_type": "code",
   "execution_count": 72,
   "metadata": {},
   "outputs": [],
   "source": [
    "df.to_excel('player_details.xlsx')"
   ]
  },
  {
   "cell_type": "markdown",
   "metadata": {},
   "source": [
    "## Synthetic Data Generation for Pandas\n"
   ]
  },
  {
   "cell_type": "markdown",
   "metadata": {},
   "source": [
    "Synthetic data generation is the process of creating artificial data that resembles real-world data but is generated algorithmically. This can be useful for various purposes, including testing machine learning models, data augmentation, and privacy-preserving data sharing.\n",
    "\n",
    "**Usage**\n",
    "\n",
    "Pandas provides several methods for generating synthetic data:\n"
   ]
  },
  {
   "cell_type": "markdown",
   "metadata": {},
   "source": [
    "#### Random Data Generation\n",
    "\n",
    "Pandas' `DataFrame` constructor can be used to create synthetic data with random values:\n"
   ]
  },
  {
   "cell_type": "markdown",
   "metadata": {},
   "source": [
    "##### Explanation of `np.random.randn(10, 4), columns=['A', 'B', 'C', 'D']`\n",
    "\n",
    "- `np.random.randn(10, 4)`: This code generates a 2-dimensional array of random numbers with a normal distribution (mean=0, variance=1) of shape (10, 4), meaning it will create 10 rows and 4 columns of random numbers.\n",
    "\n",
    "- `columns=['A', 'B', 'C', 'D']`: This code specifies the column names for the DataFrame that will be created using the random numbers generated above. The DataFrame will have columns named 'A', 'B', 'C', and 'D'.\n",
    "\n",
    "Together, this code generates a DataFrame with 10 rows and 4 columns, where the values in each column are random numbers drawn from a normal distribution.\n",
    "\n"
   ]
  },
  {
   "cell_type": "code",
   "execution_count": 73,
   "metadata": {},
   "outputs": [
    {
     "data": {
      "text/html": [
       "<div>\n",
       "<style scoped>\n",
       "    .dataframe tbody tr th:only-of-type {\n",
       "        vertical-align: middle;\n",
       "    }\n",
       "\n",
       "    .dataframe tbody tr th {\n",
       "        vertical-align: top;\n",
       "    }\n",
       "\n",
       "    .dataframe thead th {\n",
       "        text-align: right;\n",
       "    }\n",
       "</style>\n",
       "<table border=\"1\" class=\"dataframe\">\n",
       "  <thead>\n",
       "    <tr style=\"text-align: right;\">\n",
       "      <th></th>\n",
       "      <th>A</th>\n",
       "      <th>B</th>\n",
       "      <th>C</th>\n",
       "      <th>D</th>\n",
       "    </tr>\n",
       "  </thead>\n",
       "  <tbody>\n",
       "    <tr>\n",
       "      <th>0</th>\n",
       "      <td>-0.801544</td>\n",
       "      <td>0.481650</td>\n",
       "      <td>-0.128315</td>\n",
       "      <td>1.171599</td>\n",
       "    </tr>\n",
       "    <tr>\n",
       "      <th>1</th>\n",
       "      <td>0.173703</td>\n",
       "      <td>0.126643</td>\n",
       "      <td>0.821466</td>\n",
       "      <td>0.070699</td>\n",
       "    </tr>\n",
       "    <tr>\n",
       "      <th>2</th>\n",
       "      <td>-1.760444</td>\n",
       "      <td>0.068970</td>\n",
       "      <td>0.722967</td>\n",
       "      <td>-1.324226</td>\n",
       "    </tr>\n",
       "    <tr>\n",
       "      <th>3</th>\n",
       "      <td>1.079414</td>\n",
       "      <td>-1.681141</td>\n",
       "      <td>1.287072</td>\n",
       "      <td>0.226780</td>\n",
       "    </tr>\n",
       "    <tr>\n",
       "      <th>4</th>\n",
       "      <td>-0.683783</td>\n",
       "      <td>-0.320790</td>\n",
       "      <td>-1.336605</td>\n",
       "      <td>-0.243152</td>\n",
       "    </tr>\n",
       "  </tbody>\n",
       "</table>\n",
       "</div>"
      ],
      "text/plain": [
       "          A         B         C         D\n",
       "0 -0.801544  0.481650 -0.128315  1.171599\n",
       "1  0.173703  0.126643  0.821466  0.070699\n",
       "2 -1.760444  0.068970  0.722967 -1.324226\n",
       "3  1.079414 -1.681141  1.287072  0.226780\n",
       "4 -0.683783 -0.320790 -1.336605 -0.243152"
      ]
     },
     "execution_count": 73,
     "metadata": {},
     "output_type": "execute_result"
    }
   ],
   "source": [
    "import pandas as pd\n",
    "import numpy as np\n",
    "\n",
    "# Create a DataFrame with random values\n",
    "df = pd.DataFrame(np.random.randn(10, 4), columns=['A', 'B', 'C', 'D'])\n",
    "df.head()"
   ]
  },
  {
   "cell_type": "markdown",
   "metadata": {},
   "source": [
    "#### JSON Data\n",
    "\n",
    "we can also convert string to json data then to dataframe\n"
   ]
  },
  {
   "cell_type": "code",
   "execution_count": 74,
   "metadata": {},
   "outputs": [
    {
     "data": {
      "text/plain": [
       "dict"
      ]
     },
     "execution_count": 74,
     "metadata": {},
     "output_type": "execute_result"
    }
   ],
   "source": [
    "data = {\n",
    "  \"name\": \"John Doe\",\n",
    "  \"age\": 30,\n",
    "  \"city\": \"New York\",\n",
    "  \"interests\": [\"hiking\", \"reading\", \"cooking\"]\n",
    "    }\n",
    "type(data)"
   ]
  },
  {
   "cell_type": "code",
   "execution_count": 75,
   "metadata": {},
   "outputs": [
    {
     "data": {
      "text/html": [
       "<div>\n",
       "<style scoped>\n",
       "    .dataframe tbody tr th:only-of-type {\n",
       "        vertical-align: middle;\n",
       "    }\n",
       "\n",
       "    .dataframe tbody tr th {\n",
       "        vertical-align: top;\n",
       "    }\n",
       "\n",
       "    .dataframe thead th {\n",
       "        text-align: right;\n",
       "    }\n",
       "</style>\n",
       "<table border=\"1\" class=\"dataframe\">\n",
       "  <thead>\n",
       "    <tr style=\"text-align: right;\">\n",
       "      <th></th>\n",
       "      <th>name</th>\n",
       "      <th>age</th>\n",
       "      <th>city</th>\n",
       "      <th>interests</th>\n",
       "    </tr>\n",
       "  </thead>\n",
       "  <tbody>\n",
       "    <tr>\n",
       "      <th>0</th>\n",
       "      <td>John Doe</td>\n",
       "      <td>30</td>\n",
       "      <td>New York</td>\n",
       "      <td>hiking</td>\n",
       "    </tr>\n",
       "    <tr>\n",
       "      <th>1</th>\n",
       "      <td>John Doe</td>\n",
       "      <td>30</td>\n",
       "      <td>New York</td>\n",
       "      <td>reading</td>\n",
       "    </tr>\n",
       "    <tr>\n",
       "      <th>2</th>\n",
       "      <td>John Doe</td>\n",
       "      <td>30</td>\n",
       "      <td>New York</td>\n",
       "      <td>cooking</td>\n",
       "    </tr>\n",
       "  </tbody>\n",
       "</table>\n",
       "</div>"
      ],
      "text/plain": [
       "       name  age      city interests\n",
       "0  John Doe   30  New York    hiking\n",
       "1  John Doe   30  New York   reading\n",
       "2  John Doe   30  New York   cooking"
      ]
     },
     "execution_count": 75,
     "metadata": {},
     "output_type": "execute_result"
    }
   ],
   "source": [
    "data_df = pd.DataFrame(data)\n",
    "data_df"
   ]
  },
  {
   "cell_type": "code",
   "execution_count": 76,
   "metadata": {},
   "outputs": [
    {
     "data": {
      "text/plain": [
       "0     hiking\n",
       "1    reading\n",
       "2    cooking\n",
       "Name: interests, dtype: object"
      ]
     },
     "execution_count": 76,
     "metadata": {},
     "output_type": "execute_result"
    }
   ],
   "source": [
    "data_df['interests']"
   ]
  },
  {
   "cell_type": "markdown",
   "metadata": {},
   "source": [
    "##  concepts"
   ]
  },
  {
   "cell_type": "markdown",
   "metadata": {},
   "source": [
    "### setting data"
   ]
  },
  {
   "cell_type": "code",
   "execution_count": 77,
   "metadata": {},
   "outputs": [],
   "source": [
    "# Create a sample DataFrame\n",
    "data = {'Name': ['Alice', 'Bob', 'Charlie', 'David', 'Emily'],\n",
    "        'Age': [25, 30, 35, 40, 45],\n",
    "        'Salary': [50000, 60000, 70000, 80000, 90000],\n",
    "        'Department': ['HR', 'IT', 'Finance', 'IT', 'HR']}\n",
    "\n",
    "data2 = {'Name': ['Alice', 'Bob', 'Charlie'],\n",
    "         'Hire_Date': ['2020-01-15', '2019-05-20', '2021-02-10']}\n",
    "\n",
    "df = pd.DataFrame(data)\n",
    "df2 = pd.DataFrame(data2)"
   ]
  },
  {
   "cell_type": "code",
   "execution_count": 78,
   "metadata": {},
   "outputs": [
    {
     "data": {
      "text/html": [
       "<div>\n",
       "<style scoped>\n",
       "    .dataframe tbody tr th:only-of-type {\n",
       "        vertical-align: middle;\n",
       "    }\n",
       "\n",
       "    .dataframe tbody tr th {\n",
       "        vertical-align: top;\n",
       "    }\n",
       "\n",
       "    .dataframe thead th {\n",
       "        text-align: right;\n",
       "    }\n",
       "</style>\n",
       "<table border=\"1\" class=\"dataframe\">\n",
       "  <thead>\n",
       "    <tr style=\"text-align: right;\">\n",
       "      <th></th>\n",
       "      <th>Name</th>\n",
       "      <th>Age</th>\n",
       "      <th>Salary</th>\n",
       "      <th>Department</th>\n",
       "    </tr>\n",
       "  </thead>\n",
       "  <tbody>\n",
       "    <tr>\n",
       "      <th>0</th>\n",
       "      <td>Alice</td>\n",
       "      <td>25</td>\n",
       "      <td>50000</td>\n",
       "      <td>HR</td>\n",
       "    </tr>\n",
       "    <tr>\n",
       "      <th>1</th>\n",
       "      <td>Bob</td>\n",
       "      <td>30</td>\n",
       "      <td>60000</td>\n",
       "      <td>IT</td>\n",
       "    </tr>\n",
       "  </tbody>\n",
       "</table>\n",
       "</div>"
      ],
      "text/plain": [
       "    Name  Age  Salary Department\n",
       "0  Alice   25   50000         HR\n",
       "1    Bob   30   60000         IT"
      ]
     },
     "execution_count": 78,
     "metadata": {},
     "output_type": "execute_result"
    }
   ],
   "source": [
    "df.head(2)"
   ]
  },
  {
   "cell_type": "code",
   "execution_count": 79,
   "metadata": {},
   "outputs": [
    {
     "data": {
      "text/html": [
       "<div>\n",
       "<style scoped>\n",
       "    .dataframe tbody tr th:only-of-type {\n",
       "        vertical-align: middle;\n",
       "    }\n",
       "\n",
       "    .dataframe tbody tr th {\n",
       "        vertical-align: top;\n",
       "    }\n",
       "\n",
       "    .dataframe thead th {\n",
       "        text-align: right;\n",
       "    }\n",
       "</style>\n",
       "<table border=\"1\" class=\"dataframe\">\n",
       "  <thead>\n",
       "    <tr style=\"text-align: right;\">\n",
       "      <th></th>\n",
       "      <th>Name</th>\n",
       "      <th>Hire_Date</th>\n",
       "    </tr>\n",
       "  </thead>\n",
       "  <tbody>\n",
       "    <tr>\n",
       "      <th>0</th>\n",
       "      <td>Alice</td>\n",
       "      <td>2020-01-15</td>\n",
       "    </tr>\n",
       "    <tr>\n",
       "      <th>1</th>\n",
       "      <td>Bob</td>\n",
       "      <td>2019-05-20</td>\n",
       "    </tr>\n",
       "  </tbody>\n",
       "</table>\n",
       "</div>"
      ],
      "text/plain": [
       "    Name   Hire_Date\n",
       "0  Alice  2020-01-15\n",
       "1    Bob  2019-05-20"
      ]
     },
     "execution_count": 79,
     "metadata": {},
     "output_type": "execute_result"
    }
   ],
   "source": [
    "df2.head(2)"
   ]
  },
  {
   "cell_type": "markdown",
   "metadata": {},
   "source": [
    "### iloc"
   ]
  },
  {
   "cell_type": "markdown",
   "metadata": {},
   "source": [
    "**Usage**\n",
    "\n",
    "The `iloc` indexer allows for integer-based indexing to select rows and columns from a DataFrame.\n",
    "\n",
    "**Syntax**\n",
    "\n",
    "```python\n",
    "dataframe.iloc[row_indexer, column_indexer]\n"
   ]
  },
  {
   "cell_type": "code",
   "execution_count": 80,
   "metadata": {},
   "outputs": [
    {
     "data": {
      "text/html": [
       "<div>\n",
       "<style scoped>\n",
       "    .dataframe tbody tr th:only-of-type {\n",
       "        vertical-align: middle;\n",
       "    }\n",
       "\n",
       "    .dataframe tbody tr th {\n",
       "        vertical-align: top;\n",
       "    }\n",
       "\n",
       "    .dataframe thead th {\n",
       "        text-align: right;\n",
       "    }\n",
       "</style>\n",
       "<table border=\"1\" class=\"dataframe\">\n",
       "  <thead>\n",
       "    <tr style=\"text-align: right;\">\n",
       "      <th></th>\n",
       "      <th>Name</th>\n",
       "      <th>Age</th>\n",
       "    </tr>\n",
       "  </thead>\n",
       "  <tbody>\n",
       "    <tr>\n",
       "      <th>1</th>\n",
       "      <td>Bob</td>\n",
       "      <td>30</td>\n",
       "    </tr>\n",
       "    <tr>\n",
       "      <th>2</th>\n",
       "      <td>Charlie</td>\n",
       "      <td>35</td>\n",
       "    </tr>\n",
       "    <tr>\n",
       "      <th>3</th>\n",
       "      <td>David</td>\n",
       "      <td>40</td>\n",
       "    </tr>\n",
       "  </tbody>\n",
       "</table>\n",
       "</div>"
      ],
      "text/plain": [
       "      Name  Age\n",
       "1      Bob   30\n",
       "2  Charlie   35\n",
       "3    David   40"
      ]
     },
     "execution_count": 80,
     "metadata": {},
     "output_type": "execute_result"
    }
   ],
   "source": [
    "# Using iloc to select specific rows and columns 1 to 3 rows and 0 to 1 column will be selected\n",
    "df.iloc[1:4, 0:2]"
   ]
  },
  {
   "cell_type": "code",
   "execution_count": 81,
   "metadata": {},
   "outputs": [
    {
     "data": {
      "text/html": [
       "<div>\n",
       "<style scoped>\n",
       "    .dataframe tbody tr th:only-of-type {\n",
       "        vertical-align: middle;\n",
       "    }\n",
       "\n",
       "    .dataframe tbody tr th {\n",
       "        vertical-align: top;\n",
       "    }\n",
       "\n",
       "    .dataframe thead th {\n",
       "        text-align: right;\n",
       "    }\n",
       "</style>\n",
       "<table border=\"1\" class=\"dataframe\">\n",
       "  <thead>\n",
       "    <tr style=\"text-align: right;\">\n",
       "      <th></th>\n",
       "      <th>Name</th>\n",
       "      <th>Salary</th>\n",
       "    </tr>\n",
       "  </thead>\n",
       "  <tbody>\n",
       "    <tr>\n",
       "      <th>1</th>\n",
       "      <td>Bob</td>\n",
       "      <td>60000</td>\n",
       "    </tr>\n",
       "    <tr>\n",
       "      <th>3</th>\n",
       "      <td>David</td>\n",
       "      <td>80000</td>\n",
       "    </tr>\n",
       "  </tbody>\n",
       "</table>\n",
       "</div>"
      ],
      "text/plain": [
       "    Name  Salary\n",
       "1    Bob   60000\n",
       "3  David   80000"
      ]
     },
     "execution_count": 81,
     "metadata": {},
     "output_type": "execute_result"
    }
   ],
   "source": [
    "# 1 and 3 row and 0 and 2 column\n",
    "df.iloc[[1,3], [0,2]]"
   ]
  },
  {
   "cell_type": "markdown",
   "metadata": {},
   "source": [
    "### loc"
   ]
  },
  {
   "cell_type": "markdown",
   "metadata": {},
   "source": [
    "**usage**\n",
    "\n",
    "`loc` is a label-based indexing method in pandas DataFrame used to access rows and columns by label(s) or a boolean array.\n",
    "\n",
    "**Syntax**\n",
    "\n",
    "```python\n",
    "DataFrame.loc[row_indexer, column_indexer]"
   ]
  },
  {
   "cell_type": "code",
   "execution_count": 82,
   "metadata": {},
   "outputs": [
    {
     "data": {
      "text/plain": [
       "0    False\n",
       "1    False\n",
       "2     True\n",
       "3     True\n",
       "4     True\n",
       "Name: Age, dtype: bool"
      ]
     },
     "execution_count": 82,
     "metadata": {},
     "output_type": "execute_result"
    }
   ],
   "source": [
    "input = df['Age'] > 30\n",
    "input"
   ]
  },
  {
   "cell_type": "code",
   "execution_count": 83,
   "metadata": {},
   "outputs": [
    {
     "data": {
      "text/html": [
       "<div>\n",
       "<style scoped>\n",
       "    .dataframe tbody tr th:only-of-type {\n",
       "        vertical-align: middle;\n",
       "    }\n",
       "\n",
       "    .dataframe tbody tr th {\n",
       "        vertical-align: top;\n",
       "    }\n",
       "\n",
       "    .dataframe thead th {\n",
       "        text-align: right;\n",
       "    }\n",
       "</style>\n",
       "<table border=\"1\" class=\"dataframe\">\n",
       "  <thead>\n",
       "    <tr style=\"text-align: right;\">\n",
       "      <th></th>\n",
       "      <th>Name</th>\n",
       "      <th>Age</th>\n",
       "      <th>Salary</th>\n",
       "      <th>Department</th>\n",
       "    </tr>\n",
       "  </thead>\n",
       "  <tbody>\n",
       "    <tr>\n",
       "      <th>2</th>\n",
       "      <td>Charlie</td>\n",
       "      <td>35</td>\n",
       "      <td>70000</td>\n",
       "      <td>Finance</td>\n",
       "    </tr>\n",
       "    <tr>\n",
       "      <th>3</th>\n",
       "      <td>David</td>\n",
       "      <td>40</td>\n",
       "      <td>80000</td>\n",
       "      <td>IT</td>\n",
       "    </tr>\n",
       "    <tr>\n",
       "      <th>4</th>\n",
       "      <td>Emily</td>\n",
       "      <td>45</td>\n",
       "      <td>90000</td>\n",
       "      <td>HR</td>\n",
       "    </tr>\n",
       "  </tbody>\n",
       "</table>\n",
       "</div>"
      ],
      "text/plain": [
       "      Name  Age  Salary Department\n",
       "2  Charlie   35   70000    Finance\n",
       "3    David   40   80000         IT\n",
       "4    Emily   45   90000         HR"
      ]
     },
     "execution_count": 83,
     "metadata": {},
     "output_type": "execute_result"
    }
   ],
   "source": [
    "# Using loc to select data based on labels, only the values with true are displayed\n",
    "df.loc[input]\n",
    "\n"
   ]
  },
  {
   "cell_type": "code",
   "execution_count": 84,
   "metadata": {},
   "outputs": [
    {
     "data": {
      "text/plain": [
       "Name          Charlie\n",
       "Age                35\n",
       "Salary          70000\n",
       "Department    Finance\n",
       "Name: 2, dtype: object"
      ]
     },
     "execution_count": 84,
     "metadata": {},
     "output_type": "execute_result"
    }
   ],
   "source": [
    "# if index is not specified loc can also used with numeric index just like iloc\n",
    "df.loc[2]"
   ]
  },
  {
   "cell_type": "code",
   "execution_count": 85,
   "metadata": {},
   "outputs": [
    {
     "data": {
      "text/plain": [
       "Name          Charlie\n",
       "Age                35\n",
       "Salary          70000\n",
       "Department    Finance\n",
       "Name: 2, dtype: object"
      ]
     },
     "execution_count": 85,
     "metadata": {},
     "output_type": "execute_result"
    }
   ],
   "source": [
    "df.iloc[2]"
   ]
  },
  {
   "cell_type": "markdown",
   "metadata": {},
   "source": [
    "### Differance between iloc and loc"
   ]
  },
  {
   "cell_type": "code",
   "execution_count": 86,
   "metadata": {},
   "outputs": [
    {
     "data": {
      "text/html": [
       "<div>\n",
       "<style scoped>\n",
       "    .dataframe tbody tr th:only-of-type {\n",
       "        vertical-align: middle;\n",
       "    }\n",
       "\n",
       "    .dataframe tbody tr th {\n",
       "        vertical-align: top;\n",
       "    }\n",
       "\n",
       "    .dataframe thead th {\n",
       "        text-align: right;\n",
       "    }\n",
       "</style>\n",
       "<table border=\"1\" class=\"dataframe\">\n",
       "  <thead>\n",
       "    <tr style=\"text-align: right;\">\n",
       "      <th></th>\n",
       "      <th>age</th>\n",
       "      <th>city</th>\n",
       "    </tr>\n",
       "    <tr>\n",
       "      <th>name</th>\n",
       "      <th></th>\n",
       "      <th></th>\n",
       "    </tr>\n",
       "  </thead>\n",
       "  <tbody>\n",
       "    <tr>\n",
       "      <th>John</th>\n",
       "      <td>30</td>\n",
       "      <td>New York</td>\n",
       "    </tr>\n",
       "    <tr>\n",
       "      <th>Alice</th>\n",
       "      <td>25</td>\n",
       "      <td>Los Angeles</td>\n",
       "    </tr>\n",
       "  </tbody>\n",
       "</table>\n",
       "</div>"
      ],
      "text/plain": [
       "       age         city\n",
       "name                   \n",
       "John    30     New York\n",
       "Alice   25  Los Angeles"
      ]
     },
     "execution_count": 86,
     "metadata": {},
     "output_type": "execute_result"
    }
   ],
   "source": [
    "# converting string to json and json to datframe\n",
    "import json\n",
    "\n",
    "# Synthetic data in JSON format\n",
    "json_data = '''\n",
    "{\n",
    "  \"data\": [\n",
    "    {\"name\": \"John\", \"age\": 30, \"city\": \"New York\"},\n",
    "    {\"name\": \"Alice\", \"age\": 25, \"city\": \"Los Angeles\"},\n",
    "    {\"name\": \"Bob\", \"age\": 35, \"city\": \"Chicago\"},\n",
    "    {\"name\": \"Emily\", \"age\": 28, \"city\": \"San Francisco\"}\n",
    "  ]\n",
    "}\n",
    "'''\n",
    "\n",
    "# Load JSON data into a Python dictionary\n",
    "data_dict = json.loads(json_data)\n",
    "\n",
    "# Create DataFrame from dictionary with specified index\n",
    "df_specified = pd.DataFrame(data_dict['data']).set_index('name')\n",
    "\n",
    "df_specified.head(2)"
   ]
  },
  {
   "cell_type": "code",
   "execution_count": 87,
   "metadata": {},
   "outputs": [
    {
     "data": {
      "text/plain": [
       "age          35\n",
       "city    Chicago\n",
       "Name: Bob, dtype: object"
      ]
     },
     "execution_count": 87,
     "metadata": {},
     "output_type": "execute_result"
    }
   ],
   "source": [
    "# df_specified.iloc['Bob'] # error\n",
    "\n",
    "df_specified.iloc[2]"
   ]
  },
  {
   "cell_type": "code",
   "execution_count": 88,
   "metadata": {},
   "outputs": [
    {
     "data": {
      "text/plain": [
       "age          35\n",
       "city    Chicago\n",
       "Name: Bob, dtype: object"
      ]
     },
     "execution_count": 88,
     "metadata": {},
     "output_type": "execute_result"
    }
   ],
   "source": [
    "# df_specified.loc[2] # this will return error\n",
    "\n",
    "df_specified.loc['Bob']"
   ]
  },
  {
   "cell_type": "markdown",
   "metadata": {},
   "source": [
    "### Group by"
   ]
  },
  {
   "cell_type": "markdown",
   "metadata": {},
   "source": [
    "\n",
    "df_grouped = df.groupby('column_name').agg({'column_to_aggregate': 'function'})\n"
   ]
  },
  {
   "cell_type": "code",
   "execution_count": 89,
   "metadata": {},
   "outputs": [
    {
     "data": {
      "text/plain": [
       "Department\n",
       "Finance    70000.0\n",
       "HR         70000.0\n",
       "IT         70000.0\n",
       "Name: Salary, dtype: float64"
      ]
     },
     "execution_count": 89,
     "metadata": {},
     "output_type": "execute_result"
    }
   ],
   "source": [
    "# Grouping data by Department and calculating mean salary\n",
    "grouped = df.groupby('Department')['Salary'].mean()\n",
    "grouped"
   ]
  },
  {
   "cell_type": "code",
   "execution_count": 90,
   "metadata": {},
   "outputs": [
    {
     "data": {
      "text/plain": [
       "pandas.core.series.Series"
      ]
     },
     "execution_count": 90,
     "metadata": {},
     "output_type": "execute_result"
    }
   ],
   "source": [
    "type(grouped)"
   ]
  },
  {
   "cell_type": "code",
   "execution_count": 91,
   "metadata": {},
   "outputs": [
    {
     "data": {
      "text/html": [
       "<div>\n",
       "<style scoped>\n",
       "    .dataframe tbody tr th:only-of-type {\n",
       "        vertical-align: middle;\n",
       "    }\n",
       "\n",
       "    .dataframe tbody tr th {\n",
       "        vertical-align: top;\n",
       "    }\n",
       "\n",
       "    .dataframe thead th {\n",
       "        text-align: right;\n",
       "    }\n",
       "</style>\n",
       "<table border=\"1\" class=\"dataframe\">\n",
       "  <thead>\n",
       "    <tr style=\"text-align: right;\">\n",
       "      <th></th>\n",
       "      <th>Salary</th>\n",
       "    </tr>\n",
       "    <tr>\n",
       "      <th>Department</th>\n",
       "      <th></th>\n",
       "    </tr>\n",
       "  </thead>\n",
       "  <tbody>\n",
       "    <tr>\n",
       "      <th>Finance</th>\n",
       "      <td>70000.0</td>\n",
       "    </tr>\n",
       "    <tr>\n",
       "      <th>HR</th>\n",
       "      <td>70000.0</td>\n",
       "    </tr>\n",
       "    <tr>\n",
       "      <th>IT</th>\n",
       "      <td>70000.0</td>\n",
       "    </tr>\n",
       "  </tbody>\n",
       "</table>\n",
       "</div>"
      ],
      "text/plain": [
       "             Salary\n",
       "Department         \n",
       "Finance     70000.0\n",
       "HR          70000.0\n",
       "IT          70000.0"
      ]
     },
     "execution_count": 91,
     "metadata": {},
     "output_type": "execute_result"
    }
   ],
   "source": [
    "grouped_2 = df.groupby('Department').agg({'Salary': 'mean'})\n",
    "grouped_2"
   ]
  },
  {
   "cell_type": "code",
   "execution_count": 92,
   "metadata": {},
   "outputs": [
    {
     "data": {
      "text/plain": [
       "pandas.core.frame.DataFrame"
      ]
     },
     "execution_count": 92,
     "metadata": {},
     "output_type": "execute_result"
    }
   ],
   "source": [
    "type(grouped_2)"
   ]
  },
  {
   "cell_type": "markdown",
   "metadata": {},
   "source": [
    "### Merge"
   ]
  },
  {
   "cell_type": "code",
   "execution_count": 93,
   "metadata": {},
   "outputs": [
    {
     "data": {
      "text/html": [
       "<div>\n",
       "<style scoped>\n",
       "    .dataframe tbody tr th:only-of-type {\n",
       "        vertical-align: middle;\n",
       "    }\n",
       "\n",
       "    .dataframe tbody tr th {\n",
       "        vertical-align: top;\n",
       "    }\n",
       "\n",
       "    .dataframe thead th {\n",
       "        text-align: right;\n",
       "    }\n",
       "</style>\n",
       "<table border=\"1\" class=\"dataframe\">\n",
       "  <thead>\n",
       "    <tr style=\"text-align: right;\">\n",
       "      <th></th>\n",
       "      <th>Name</th>\n",
       "      <th>Age</th>\n",
       "      <th>Salary</th>\n",
       "      <th>Department</th>\n",
       "      <th>Hire_Date</th>\n",
       "    </tr>\n",
       "  </thead>\n",
       "  <tbody>\n",
       "    <tr>\n",
       "      <th>0</th>\n",
       "      <td>Alice</td>\n",
       "      <td>25</td>\n",
       "      <td>50000</td>\n",
       "      <td>HR</td>\n",
       "      <td>2020-01-15</td>\n",
       "    </tr>\n",
       "    <tr>\n",
       "      <th>1</th>\n",
       "      <td>Bob</td>\n",
       "      <td>30</td>\n",
       "      <td>60000</td>\n",
       "      <td>IT</td>\n",
       "      <td>2019-05-20</td>\n",
       "    </tr>\n",
       "    <tr>\n",
       "      <th>2</th>\n",
       "      <td>Charlie</td>\n",
       "      <td>35</td>\n",
       "      <td>70000</td>\n",
       "      <td>Finance</td>\n",
       "      <td>2021-02-10</td>\n",
       "    </tr>\n",
       "  </tbody>\n",
       "</table>\n",
       "</div>"
      ],
      "text/plain": [
       "      Name  Age  Salary Department   Hire_Date\n",
       "0    Alice   25   50000         HR  2020-01-15\n",
       "1      Bob   30   60000         IT  2019-05-20\n",
       "2  Charlie   35   70000    Finance  2021-02-10"
      ]
     },
     "execution_count": 93,
     "metadata": {},
     "output_type": "execute_result"
    }
   ],
   "source": [
    "# inner merge\n",
    "merged_df = pd.merge(df, df2, on='Name')\n",
    "merged_df\n"
   ]
  },
  {
   "cell_type": "code",
   "execution_count": 94,
   "metadata": {},
   "outputs": [
    {
     "data": {
      "text/html": [
       "<div>\n",
       "<style scoped>\n",
       "    .dataframe tbody tr th:only-of-type {\n",
       "        vertical-align: middle;\n",
       "    }\n",
       "\n",
       "    .dataframe tbody tr th {\n",
       "        vertical-align: top;\n",
       "    }\n",
       "\n",
       "    .dataframe thead th {\n",
       "        text-align: right;\n",
       "    }\n",
       "</style>\n",
       "<table border=\"1\" class=\"dataframe\">\n",
       "  <thead>\n",
       "    <tr style=\"text-align: right;\">\n",
       "      <th></th>\n",
       "      <th>Name</th>\n",
       "      <th>Age</th>\n",
       "      <th>Salary</th>\n",
       "      <th>Department</th>\n",
       "      <th>Hire_Date</th>\n",
       "    </tr>\n",
       "  </thead>\n",
       "  <tbody>\n",
       "    <tr>\n",
       "      <th>0</th>\n",
       "      <td>Alice</td>\n",
       "      <td>25</td>\n",
       "      <td>50000</td>\n",
       "      <td>HR</td>\n",
       "      <td>2020-01-15</td>\n",
       "    </tr>\n",
       "    <tr>\n",
       "      <th>1</th>\n",
       "      <td>Bob</td>\n",
       "      <td>30</td>\n",
       "      <td>60000</td>\n",
       "      <td>IT</td>\n",
       "      <td>2019-05-20</td>\n",
       "    </tr>\n",
       "    <tr>\n",
       "      <th>2</th>\n",
       "      <td>Charlie</td>\n",
       "      <td>35</td>\n",
       "      <td>70000</td>\n",
       "      <td>Finance</td>\n",
       "      <td>2021-02-10</td>\n",
       "    </tr>\n",
       "    <tr>\n",
       "      <th>3</th>\n",
       "      <td>David</td>\n",
       "      <td>40</td>\n",
       "      <td>80000</td>\n",
       "      <td>IT</td>\n",
       "      <td>NaN</td>\n",
       "    </tr>\n",
       "    <tr>\n",
       "      <th>4</th>\n",
       "      <td>Emily</td>\n",
       "      <td>45</td>\n",
       "      <td>90000</td>\n",
       "      <td>HR</td>\n",
       "      <td>NaN</td>\n",
       "    </tr>\n",
       "  </tbody>\n",
       "</table>\n",
       "</div>"
      ],
      "text/plain": [
       "      Name  Age  Salary Department   Hire_Date\n",
       "0    Alice   25   50000         HR  2020-01-15\n",
       "1      Bob   30   60000         IT  2019-05-20\n",
       "2  Charlie   35   70000    Finance  2021-02-10\n",
       "3    David   40   80000         IT         NaN\n",
       "4    Emily   45   90000         HR         NaN"
      ]
     },
     "execution_count": 94,
     "metadata": {},
     "output_type": "execute_result"
    }
   ],
   "source": [
    "# left merge\n",
    "pd.merge(df, df2, on='Name', how='left')"
   ]
  },
  {
   "cell_type": "code",
   "execution_count": 95,
   "metadata": {},
   "outputs": [
    {
     "data": {
      "text/html": [
       "<div>\n",
       "<style scoped>\n",
       "    .dataframe tbody tr th:only-of-type {\n",
       "        vertical-align: middle;\n",
       "    }\n",
       "\n",
       "    .dataframe tbody tr th {\n",
       "        vertical-align: top;\n",
       "    }\n",
       "\n",
       "    .dataframe thead th {\n",
       "        text-align: right;\n",
       "    }\n",
       "</style>\n",
       "<table border=\"1\" class=\"dataframe\">\n",
       "  <thead>\n",
       "    <tr style=\"text-align: right;\">\n",
       "      <th></th>\n",
       "      <th>Name</th>\n",
       "      <th>Age</th>\n",
       "      <th>Salary</th>\n",
       "      <th>Department</th>\n",
       "      <th>Hire_Date</th>\n",
       "    </tr>\n",
       "  </thead>\n",
       "  <tbody>\n",
       "    <tr>\n",
       "      <th>0</th>\n",
       "      <td>Alice</td>\n",
       "      <td>25</td>\n",
       "      <td>50000</td>\n",
       "      <td>HR</td>\n",
       "      <td>2020-01-15</td>\n",
       "    </tr>\n",
       "    <tr>\n",
       "      <th>1</th>\n",
       "      <td>Bob</td>\n",
       "      <td>30</td>\n",
       "      <td>60000</td>\n",
       "      <td>IT</td>\n",
       "      <td>2019-05-20</td>\n",
       "    </tr>\n",
       "    <tr>\n",
       "      <th>2</th>\n",
       "      <td>Charlie</td>\n",
       "      <td>35</td>\n",
       "      <td>70000</td>\n",
       "      <td>Finance</td>\n",
       "      <td>2021-02-10</td>\n",
       "    </tr>\n",
       "  </tbody>\n",
       "</table>\n",
       "</div>"
      ],
      "text/plain": [
       "      Name  Age  Salary Department   Hire_Date\n",
       "0    Alice   25   50000         HR  2020-01-15\n",
       "1      Bob   30   60000         IT  2019-05-20\n",
       "2  Charlie   35   70000    Finance  2021-02-10"
      ]
     },
     "execution_count": 95,
     "metadata": {},
     "output_type": "execute_result"
    }
   ],
   "source": [
    "# Right merge\n",
    "pd.merge(df, df2, on='Name', how='right')"
   ]
  },
  {
   "cell_type": "code",
   "execution_count": 96,
   "metadata": {},
   "outputs": [
    {
     "data": {
      "text/html": [
       "<div>\n",
       "<style scoped>\n",
       "    .dataframe tbody tr th:only-of-type {\n",
       "        vertical-align: middle;\n",
       "    }\n",
       "\n",
       "    .dataframe tbody tr th {\n",
       "        vertical-align: top;\n",
       "    }\n",
       "\n",
       "    .dataframe thead th {\n",
       "        text-align: right;\n",
       "    }\n",
       "</style>\n",
       "<table border=\"1\" class=\"dataframe\">\n",
       "  <thead>\n",
       "    <tr style=\"text-align: right;\">\n",
       "      <th></th>\n",
       "      <th>Name</th>\n",
       "      <th>Age</th>\n",
       "      <th>Salary</th>\n",
       "      <th>Department</th>\n",
       "      <th>Hire_Date</th>\n",
       "    </tr>\n",
       "  </thead>\n",
       "  <tbody>\n",
       "    <tr>\n",
       "      <th>0</th>\n",
       "      <td>Alice</td>\n",
       "      <td>25</td>\n",
       "      <td>50000</td>\n",
       "      <td>HR</td>\n",
       "      <td>2020-01-15</td>\n",
       "    </tr>\n",
       "    <tr>\n",
       "      <th>1</th>\n",
       "      <td>Bob</td>\n",
       "      <td>30</td>\n",
       "      <td>60000</td>\n",
       "      <td>IT</td>\n",
       "      <td>2019-05-20</td>\n",
       "    </tr>\n",
       "    <tr>\n",
       "      <th>2</th>\n",
       "      <td>Charlie</td>\n",
       "      <td>35</td>\n",
       "      <td>70000</td>\n",
       "      <td>Finance</td>\n",
       "      <td>2021-02-10</td>\n",
       "    </tr>\n",
       "    <tr>\n",
       "      <th>3</th>\n",
       "      <td>David</td>\n",
       "      <td>40</td>\n",
       "      <td>80000</td>\n",
       "      <td>IT</td>\n",
       "      <td>NaN</td>\n",
       "    </tr>\n",
       "    <tr>\n",
       "      <th>4</th>\n",
       "      <td>Emily</td>\n",
       "      <td>45</td>\n",
       "      <td>90000</td>\n",
       "      <td>HR</td>\n",
       "      <td>NaN</td>\n",
       "    </tr>\n",
       "  </tbody>\n",
       "</table>\n",
       "</div>"
      ],
      "text/plain": [
       "      Name  Age  Salary Department   Hire_Date\n",
       "0    Alice   25   50000         HR  2020-01-15\n",
       "1      Bob   30   60000         IT  2019-05-20\n",
       "2  Charlie   35   70000    Finance  2021-02-10\n",
       "3    David   40   80000         IT         NaN\n",
       "4    Emily   45   90000         HR         NaN"
      ]
     },
     "execution_count": 96,
     "metadata": {},
     "output_type": "execute_result"
    }
   ],
   "source": [
    "# outter merge\n",
    "pd.merge(df, df2, on='Name', how='outer')"
   ]
  },
  {
   "cell_type": "code",
   "execution_count": 97,
   "metadata": {},
   "outputs": [
    {
     "data": {
      "text/html": [
       "<div>\n",
       "<style scoped>\n",
       "    .dataframe tbody tr th:only-of-type {\n",
       "        vertical-align: middle;\n",
       "    }\n",
       "\n",
       "    .dataframe tbody tr th {\n",
       "        vertical-align: top;\n",
       "    }\n",
       "\n",
       "    .dataframe thead th {\n",
       "        text-align: right;\n",
       "    }\n",
       "</style>\n",
       "<table border=\"1\" class=\"dataframe\">\n",
       "  <thead>\n",
       "    <tr style=\"text-align: right;\">\n",
       "      <th></th>\n",
       "      <th>Name</th>\n",
       "      <th>Age</th>\n",
       "      <th>Salary</th>\n",
       "      <th>Department</th>\n",
       "      <th>Hire_Date</th>\n",
       "    </tr>\n",
       "  </thead>\n",
       "  <tbody>\n",
       "    <tr>\n",
       "      <th>0</th>\n",
       "      <td>Alice</td>\n",
       "      <td>25.0</td>\n",
       "      <td>50000.0</td>\n",
       "      <td>HR</td>\n",
       "      <td>NaN</td>\n",
       "    </tr>\n",
       "    <tr>\n",
       "      <th>1</th>\n",
       "      <td>Bob</td>\n",
       "      <td>30.0</td>\n",
       "      <td>60000.0</td>\n",
       "      <td>IT</td>\n",
       "      <td>NaN</td>\n",
       "    </tr>\n",
       "    <tr>\n",
       "      <th>2</th>\n",
       "      <td>Charlie</td>\n",
       "      <td>35.0</td>\n",
       "      <td>70000.0</td>\n",
       "      <td>Finance</td>\n",
       "      <td>NaN</td>\n",
       "    </tr>\n",
       "    <tr>\n",
       "      <th>3</th>\n",
       "      <td>David</td>\n",
       "      <td>40.0</td>\n",
       "      <td>80000.0</td>\n",
       "      <td>IT</td>\n",
       "      <td>NaN</td>\n",
       "    </tr>\n",
       "    <tr>\n",
       "      <th>4</th>\n",
       "      <td>Emily</td>\n",
       "      <td>45.0</td>\n",
       "      <td>90000.0</td>\n",
       "      <td>HR</td>\n",
       "      <td>NaN</td>\n",
       "    </tr>\n",
       "    <tr>\n",
       "      <th>0</th>\n",
       "      <td>Alice</td>\n",
       "      <td>NaN</td>\n",
       "      <td>NaN</td>\n",
       "      <td>NaN</td>\n",
       "      <td>2020-01-15</td>\n",
       "    </tr>\n",
       "    <tr>\n",
       "      <th>1</th>\n",
       "      <td>Bob</td>\n",
       "      <td>NaN</td>\n",
       "      <td>NaN</td>\n",
       "      <td>NaN</td>\n",
       "      <td>2019-05-20</td>\n",
       "    </tr>\n",
       "    <tr>\n",
       "      <th>2</th>\n",
       "      <td>Charlie</td>\n",
       "      <td>NaN</td>\n",
       "      <td>NaN</td>\n",
       "      <td>NaN</td>\n",
       "      <td>2021-02-10</td>\n",
       "    </tr>\n",
       "  </tbody>\n",
       "</table>\n",
       "</div>"
      ],
      "text/plain": [
       "      Name   Age   Salary Department   Hire_Date\n",
       "0    Alice  25.0  50000.0         HR         NaN\n",
       "1      Bob  30.0  60000.0         IT         NaN\n",
       "2  Charlie  35.0  70000.0    Finance         NaN\n",
       "3    David  40.0  80000.0         IT         NaN\n",
       "4    Emily  45.0  90000.0         HR         NaN\n",
       "0    Alice   NaN      NaN        NaN  2020-01-15\n",
       "1      Bob   NaN      NaN        NaN  2019-05-20\n",
       "2  Charlie   NaN      NaN        NaN  2021-02-10"
      ]
     },
     "execution_count": 97,
     "metadata": {},
     "output_type": "execute_result"
    }
   ],
   "source": [
    "# concatinate\n",
    "pd.concat([df, df2])\n"
   ]
  },
  {
   "cell_type": "markdown",
   "metadata": {},
   "source": [
    "### drop"
   ]
  },
  {
   "cell_type": "code",
   "execution_count": 98,
   "metadata": {},
   "outputs": [],
   "source": [
    "# Dropping a column and update df since inplace = True\n",
    "df.drop('Department', axis=1, inplace=True)\n",
    "\n"
   ]
  },
  {
   "cell_type": "code",
   "execution_count": 99,
   "metadata": {},
   "outputs": [
    {
     "data": {
      "text/html": [
       "<div>\n",
       "<style scoped>\n",
       "    .dataframe tbody tr th:only-of-type {\n",
       "        vertical-align: middle;\n",
       "    }\n",
       "\n",
       "    .dataframe tbody tr th {\n",
       "        vertical-align: top;\n",
       "    }\n",
       "\n",
       "    .dataframe thead th {\n",
       "        text-align: right;\n",
       "    }\n",
       "</style>\n",
       "<table border=\"1\" class=\"dataframe\">\n",
       "  <thead>\n",
       "    <tr style=\"text-align: right;\">\n",
       "      <th></th>\n",
       "      <th>Name</th>\n",
       "      <th>Age</th>\n",
       "      <th>Salary</th>\n",
       "    </tr>\n",
       "  </thead>\n",
       "  <tbody>\n",
       "    <tr>\n",
       "      <th>0</th>\n",
       "      <td>Alice</td>\n",
       "      <td>25</td>\n",
       "      <td>50000</td>\n",
       "    </tr>\n",
       "    <tr>\n",
       "      <th>1</th>\n",
       "      <td>Bob</td>\n",
       "      <td>30</td>\n",
       "      <td>60000</td>\n",
       "    </tr>\n",
       "    <tr>\n",
       "      <th>2</th>\n",
       "      <td>Charlie</td>\n",
       "      <td>35</td>\n",
       "      <td>70000</td>\n",
       "    </tr>\n",
       "    <tr>\n",
       "      <th>3</th>\n",
       "      <td>David</td>\n",
       "      <td>40</td>\n",
       "      <td>80000</td>\n",
       "    </tr>\n",
       "    <tr>\n",
       "      <th>4</th>\n",
       "      <td>Emily</td>\n",
       "      <td>45</td>\n",
       "      <td>90000</td>\n",
       "    </tr>\n",
       "  </tbody>\n",
       "</table>\n",
       "</div>"
      ],
      "text/plain": [
       "      Name  Age  Salary\n",
       "0    Alice   25   50000\n",
       "1      Bob   30   60000\n",
       "2  Charlie   35   70000\n",
       "3    David   40   80000\n",
       "4    Emily   45   90000"
      ]
     },
     "execution_count": 99,
     "metadata": {},
     "output_type": "execute_result"
    }
   ],
   "source": [
    "df"
   ]
  },
  {
   "cell_type": "code",
   "execution_count": 100,
   "metadata": {},
   "outputs": [
    {
     "data": {
      "text/html": [
       "<div>\n",
       "<style scoped>\n",
       "    .dataframe tbody tr th:only-of-type {\n",
       "        vertical-align: middle;\n",
       "    }\n",
       "\n",
       "    .dataframe tbody tr th {\n",
       "        vertical-align: top;\n",
       "    }\n",
       "\n",
       "    .dataframe thead th {\n",
       "        text-align: right;\n",
       "    }\n",
       "</style>\n",
       "<table border=\"1\" class=\"dataframe\">\n",
       "  <thead>\n",
       "    <tr style=\"text-align: right;\">\n",
       "      <th></th>\n",
       "      <th>Name</th>\n",
       "      <th>Age</th>\n",
       "      <th>Salary</th>\n",
       "    </tr>\n",
       "  </thead>\n",
       "  <tbody>\n",
       "    <tr>\n",
       "      <th>0</th>\n",
       "      <td>Alice</td>\n",
       "      <td>25</td>\n",
       "      <td>50000</td>\n",
       "    </tr>\n",
       "    <tr>\n",
       "      <th>2</th>\n",
       "      <td>Charlie</td>\n",
       "      <td>35</td>\n",
       "      <td>70000</td>\n",
       "    </tr>\n",
       "    <tr>\n",
       "      <th>3</th>\n",
       "      <td>David</td>\n",
       "      <td>40</td>\n",
       "      <td>80000</td>\n",
       "    </tr>\n",
       "    <tr>\n",
       "      <th>4</th>\n",
       "      <td>Emily</td>\n",
       "      <td>45</td>\n",
       "      <td>90000</td>\n",
       "    </tr>\n",
       "  </tbody>\n",
       "</table>\n",
       "</div>"
      ],
      "text/plain": [
       "      Name  Age  Salary\n",
       "0    Alice   25   50000\n",
       "2  Charlie   35   70000\n",
       "3    David   40   80000\n",
       "4    Emily   45   90000"
      ]
     },
     "execution_count": 100,
     "metadata": {},
     "output_type": "execute_result"
    }
   ],
   "source": [
    "# Dropping a row\n",
    "df_droped = df.drop(1, axis=0, inplace=False)\n",
    "df_droped"
   ]
  },
  {
   "cell_type": "code",
   "execution_count": 101,
   "metadata": {},
   "outputs": [
    {
     "data": {
      "text/html": [
       "<div>\n",
       "<style scoped>\n",
       "    .dataframe tbody tr th:only-of-type {\n",
       "        vertical-align: middle;\n",
       "    }\n",
       "\n",
       "    .dataframe tbody tr th {\n",
       "        vertical-align: top;\n",
       "    }\n",
       "\n",
       "    .dataframe thead th {\n",
       "        text-align: right;\n",
       "    }\n",
       "</style>\n",
       "<table border=\"1\" class=\"dataframe\">\n",
       "  <thead>\n",
       "    <tr style=\"text-align: right;\">\n",
       "      <th></th>\n",
       "      <th>Name</th>\n",
       "      <th>Age</th>\n",
       "      <th>Salary</th>\n",
       "    </tr>\n",
       "  </thead>\n",
       "  <tbody>\n",
       "    <tr>\n",
       "      <th>0</th>\n",
       "      <td>Alice</td>\n",
       "      <td>25</td>\n",
       "      <td>50000</td>\n",
       "    </tr>\n",
       "    <tr>\n",
       "      <th>1</th>\n",
       "      <td>Bob</td>\n",
       "      <td>30</td>\n",
       "      <td>60000</td>\n",
       "    </tr>\n",
       "    <tr>\n",
       "      <th>2</th>\n",
       "      <td>Charlie</td>\n",
       "      <td>35</td>\n",
       "      <td>70000</td>\n",
       "    </tr>\n",
       "    <tr>\n",
       "      <th>3</th>\n",
       "      <td>David</td>\n",
       "      <td>40</td>\n",
       "      <td>80000</td>\n",
       "    </tr>\n",
       "    <tr>\n",
       "      <th>4</th>\n",
       "      <td>Emily</td>\n",
       "      <td>45</td>\n",
       "      <td>90000</td>\n",
       "    </tr>\n",
       "  </tbody>\n",
       "</table>\n",
       "</div>"
      ],
      "text/plain": [
       "      Name  Age  Salary\n",
       "0    Alice   25   50000\n",
       "1      Bob   30   60000\n",
       "2  Charlie   35   70000\n",
       "3    David   40   80000\n",
       "4    Emily   45   90000"
      ]
     },
     "execution_count": 101,
     "metadata": {},
     "output_type": "execute_result"
    }
   ],
   "source": [
    "df # row one not removed since inplace = False"
   ]
  },
  {
   "cell_type": "code",
   "execution_count": 102,
   "metadata": {},
   "outputs": [
    {
     "data": {
      "text/html": [
       "<div>\n",
       "<style scoped>\n",
       "    .dataframe tbody tr th:only-of-type {\n",
       "        vertical-align: middle;\n",
       "    }\n",
       "\n",
       "    .dataframe tbody tr th {\n",
       "        vertical-align: top;\n",
       "    }\n",
       "\n",
       "    .dataframe thead th {\n",
       "        text-align: right;\n",
       "    }\n",
       "</style>\n",
       "<table border=\"1\" class=\"dataframe\">\n",
       "  <thead>\n",
       "    <tr style=\"text-align: right;\">\n",
       "      <th></th>\n",
       "      <th>Name</th>\n",
       "      <th>Age</th>\n",
       "      <th>Salary</th>\n",
       "    </tr>\n",
       "  </thead>\n",
       "  <tbody>\n",
       "    <tr>\n",
       "      <th>count</th>\n",
       "      <td>5</td>\n",
       "      <td>5.000000</td>\n",
       "      <td>5.000000</td>\n",
       "    </tr>\n",
       "    <tr>\n",
       "      <th>unique</th>\n",
       "      <td>5</td>\n",
       "      <td>NaN</td>\n",
       "      <td>NaN</td>\n",
       "    </tr>\n",
       "    <tr>\n",
       "      <th>top</th>\n",
       "      <td>Alice</td>\n",
       "      <td>NaN</td>\n",
       "      <td>NaN</td>\n",
       "    </tr>\n",
       "    <tr>\n",
       "      <th>freq</th>\n",
       "      <td>1</td>\n",
       "      <td>NaN</td>\n",
       "      <td>NaN</td>\n",
       "    </tr>\n",
       "    <tr>\n",
       "      <th>mean</th>\n",
       "      <td>NaN</td>\n",
       "      <td>35.000000</td>\n",
       "      <td>70000.000000</td>\n",
       "    </tr>\n",
       "    <tr>\n",
       "      <th>std</th>\n",
       "      <td>NaN</td>\n",
       "      <td>7.905694</td>\n",
       "      <td>15811.388301</td>\n",
       "    </tr>\n",
       "    <tr>\n",
       "      <th>min</th>\n",
       "      <td>NaN</td>\n",
       "      <td>25.000000</td>\n",
       "      <td>50000.000000</td>\n",
       "    </tr>\n",
       "    <tr>\n",
       "      <th>25%</th>\n",
       "      <td>NaN</td>\n",
       "      <td>30.000000</td>\n",
       "      <td>60000.000000</td>\n",
       "    </tr>\n",
       "    <tr>\n",
       "      <th>50%</th>\n",
       "      <td>NaN</td>\n",
       "      <td>35.000000</td>\n",
       "      <td>70000.000000</td>\n",
       "    </tr>\n",
       "    <tr>\n",
       "      <th>75%</th>\n",
       "      <td>NaN</td>\n",
       "      <td>40.000000</td>\n",
       "      <td>80000.000000</td>\n",
       "    </tr>\n",
       "    <tr>\n",
       "      <th>max</th>\n",
       "      <td>NaN</td>\n",
       "      <td>45.000000</td>\n",
       "      <td>90000.000000</td>\n",
       "    </tr>\n",
       "  </tbody>\n",
       "</table>\n",
       "</div>"
      ],
      "text/plain": [
       "         Name        Age        Salary\n",
       "count       5   5.000000      5.000000\n",
       "unique      5        NaN           NaN\n",
       "top     Alice        NaN           NaN\n",
       "freq        1        NaN           NaN\n",
       "mean      NaN  35.000000  70000.000000\n",
       "std       NaN   7.905694  15811.388301\n",
       "min       NaN  25.000000  50000.000000\n",
       "25%       NaN  30.000000  60000.000000\n",
       "50%       NaN  35.000000  70000.000000\n",
       "75%       NaN  40.000000  80000.000000\n",
       "max       NaN  45.000000  90000.000000"
      ]
     },
     "execution_count": 102,
     "metadata": {},
     "output_type": "execute_result"
    }
   ],
   "source": [
    "# Describing the DataFrame, inlcude = all mean all the numerica and catagorical columns are included\n",
    "df.describe(include='all')"
   ]
  },
  {
   "cell_type": "markdown",
   "metadata": {},
   "source": [
    "## logic implementation"
   ]
  },
  {
   "cell_type": "code",
   "execution_count": 103,
   "metadata": {},
   "outputs": [
    {
     "data": {
      "text/html": [
       "<div>\n",
       "<style scoped>\n",
       "    .dataframe tbody tr th:only-of-type {\n",
       "        vertical-align: middle;\n",
       "    }\n",
       "\n",
       "    .dataframe tbody tr th {\n",
       "        vertical-align: top;\n",
       "    }\n",
       "\n",
       "    .dataframe thead th {\n",
       "        text-align: right;\n",
       "    }\n",
       "</style>\n",
       "<table border=\"1\" class=\"dataframe\">\n",
       "  <thead>\n",
       "    <tr style=\"text-align: right;\">\n",
       "      <th></th>\n",
       "      <th>Name</th>\n",
       "      <th>Age</th>\n",
       "      <th>Gender</th>\n",
       "      <th>Salary</th>\n",
       "    </tr>\n",
       "  </thead>\n",
       "  <tbody>\n",
       "    <tr>\n",
       "      <th>2</th>\n",
       "      <td>Charlie</td>\n",
       "      <td>35</td>\n",
       "      <td>NaN</td>\n",
       "      <td>70000</td>\n",
       "    </tr>\n",
       "    <tr>\n",
       "      <th>3</th>\n",
       "      <td>David</td>\n",
       "      <td>40</td>\n",
       "      <td>Male</td>\n",
       "      <td>80000</td>\n",
       "    </tr>\n",
       "    <tr>\n",
       "      <th>4</th>\n",
       "      <td>Emma</td>\n",
       "      <td>45</td>\n",
       "      <td>Female</td>\n",
       "      <td>90000</td>\n",
       "    </tr>\n",
       "  </tbody>\n",
       "</table>\n",
       "</div>"
      ],
      "text/plain": [
       "      Name  Age  Gender  Salary\n",
       "2  Charlie   35     NaN   70000\n",
       "3    David   40    Male   80000\n",
       "4     Emma   45  Female   90000"
      ]
     },
     "execution_count": 103,
     "metadata": {},
     "output_type": "execute_result"
    }
   ],
   "source": [
    "\n",
    "# Creating synthetic data\n",
    "data = {\n",
    "    'Name': ['Alice', 'Bob', 'Charlie', 'David', 'Emma'],\n",
    "    'Age': [25, 30, 35, 40, 45],\n",
    "    'Gender': ['Female', 'Male', np.nan, 'Male', 'Female'],\n",
    "    'Salary': [50000, 60000, 70000, 80000, 90000]\n",
    "}\n",
    "df = pd.DataFrame(data)\n",
    "\n",
    "# Selecting rows where Age is greater than 30\n",
    "filter_1 = df[df['Age'] > 30]\n",
    "filter_1\n"
   ]
  },
  {
   "cell_type": "code",
   "execution_count": 104,
   "metadata": {},
   "outputs": [
    {
     "data": {
      "text/html": [
       "<div>\n",
       "<style scoped>\n",
       "    .dataframe tbody tr th:only-of-type {\n",
       "        vertical-align: middle;\n",
       "    }\n",
       "\n",
       "    .dataframe tbody tr th {\n",
       "        vertical-align: top;\n",
       "    }\n",
       "\n",
       "    .dataframe thead th {\n",
       "        text-align: right;\n",
       "    }\n",
       "</style>\n",
       "<table border=\"1\" class=\"dataframe\">\n",
       "  <thead>\n",
       "    <tr style=\"text-align: right;\">\n",
       "      <th></th>\n",
       "      <th>Name</th>\n",
       "      <th>Age</th>\n",
       "      <th>Gender</th>\n",
       "      <th>Salary</th>\n",
       "    </tr>\n",
       "  </thead>\n",
       "  <tbody>\n",
       "    <tr>\n",
       "      <th>2</th>\n",
       "      <td>Charlie</td>\n",
       "      <td>35</td>\n",
       "      <td>NaN</td>\n",
       "      <td>70000</td>\n",
       "    </tr>\n",
       "  </tbody>\n",
       "</table>\n",
       "</div>"
      ],
      "text/plain": [
       "      Name  Age Gender  Salary\n",
       "2  Charlie   35    NaN   70000"
      ]
     },
     "execution_count": 104,
     "metadata": {},
     "output_type": "execute_result"
    }
   ],
   "source": [
    "# Selecting rows where Age is greater than 30 and Salary is less than 80000\n",
    "filter_2 = df[(df['Age'] > 30) & (df['Salary'] < 80000)]\n",
    "filter_2"
   ]
  },
  {
   "cell_type": "code",
   "execution_count": 105,
   "metadata": {},
   "outputs": [
    {
     "data": {
      "text/html": [
       "<div>\n",
       "<style scoped>\n",
       "    .dataframe tbody tr th:only-of-type {\n",
       "        vertical-align: middle;\n",
       "    }\n",
       "\n",
       "    .dataframe tbody tr th {\n",
       "        vertical-align: top;\n",
       "    }\n",
       "\n",
       "    .dataframe thead th {\n",
       "        text-align: right;\n",
       "    }\n",
       "</style>\n",
       "<table border=\"1\" class=\"dataframe\">\n",
       "  <thead>\n",
       "    <tr style=\"text-align: right;\">\n",
       "      <th></th>\n",
       "      <th>Name</th>\n",
       "      <th>Age</th>\n",
       "      <th>Gender</th>\n",
       "      <th>Salary</th>\n",
       "    </tr>\n",
       "  </thead>\n",
       "  <tbody>\n",
       "    <tr>\n",
       "      <th>0</th>\n",
       "      <td>Alice</td>\n",
       "      <td>25</td>\n",
       "      <td>Female</td>\n",
       "      <td>50000</td>\n",
       "    </tr>\n",
       "    <tr>\n",
       "      <th>2</th>\n",
       "      <td>Charlie</td>\n",
       "      <td>35</td>\n",
       "      <td>NaN</td>\n",
       "      <td>70000</td>\n",
       "    </tr>\n",
       "    <tr>\n",
       "      <th>3</th>\n",
       "      <td>David</td>\n",
       "      <td>40</td>\n",
       "      <td>Male</td>\n",
       "      <td>80000</td>\n",
       "    </tr>\n",
       "    <tr>\n",
       "      <th>4</th>\n",
       "      <td>Emma</td>\n",
       "      <td>45</td>\n",
       "      <td>Female</td>\n",
       "      <td>90000</td>\n",
       "    </tr>\n",
       "  </tbody>\n",
       "</table>\n",
       "</div>"
      ],
      "text/plain": [
       "      Name  Age  Gender  Salary\n",
       "0    Alice   25  Female   50000\n",
       "2  Charlie   35     NaN   70000\n",
       "3    David   40    Male   80000\n",
       "4     Emma   45  Female   90000"
      ]
     },
     "execution_count": 105,
     "metadata": {},
     "output_type": "execute_result"
    }
   ],
   "source": [
    "# Selecting rows where Age is greater than 30 or Gender is 'Female'\n",
    "filter_3 = df[(df['Age'] > 30) | (df['Gender'] == 'Female')]\n",
    "filter_3"
   ]
  },
  {
   "cell_type": "code",
   "execution_count": 106,
   "metadata": {},
   "outputs": [
    {
     "data": {
      "text/html": [
       "<div>\n",
       "<style scoped>\n",
       "    .dataframe tbody tr th:only-of-type {\n",
       "        vertical-align: middle;\n",
       "    }\n",
       "\n",
       "    .dataframe tbody tr th {\n",
       "        vertical-align: top;\n",
       "    }\n",
       "\n",
       "    .dataframe thead th {\n",
       "        text-align: right;\n",
       "    }\n",
       "</style>\n",
       "<table border=\"1\" class=\"dataframe\">\n",
       "  <thead>\n",
       "    <tr style=\"text-align: right;\">\n",
       "      <th></th>\n",
       "      <th>Name</th>\n",
       "      <th>Age</th>\n",
       "      <th>Gender</th>\n",
       "      <th>Salary</th>\n",
       "    </tr>\n",
       "  </thead>\n",
       "  <tbody>\n",
       "    <tr>\n",
       "      <th>2</th>\n",
       "      <td>Charlie</td>\n",
       "      <td>35</td>\n",
       "      <td>NaN</td>\n",
       "      <td>70000</td>\n",
       "    </tr>\n",
       "    <tr>\n",
       "      <th>3</th>\n",
       "      <td>David</td>\n",
       "      <td>40</td>\n",
       "      <td>Male</td>\n",
       "      <td>80000</td>\n",
       "    </tr>\n",
       "  </tbody>\n",
       "</table>\n",
       "</div>"
      ],
      "text/plain": [
       "      Name  Age Gender  Salary\n",
       "2  Charlie   35    NaN   70000\n",
       "3    David   40   Male   80000"
      ]
     },
     "execution_count": 106,
     "metadata": {},
     "output_type": "execute_result"
    }
   ],
   "source": [
    "df[df['Name'].isin(['David', 'Charlie'])]"
   ]
  },
  {
   "cell_type": "code",
   "execution_count": 107,
   "metadata": {},
   "outputs": [
    {
     "data": {
      "text/html": [
       "<div>\n",
       "<style scoped>\n",
       "    .dataframe tbody tr th:only-of-type {\n",
       "        vertical-align: middle;\n",
       "    }\n",
       "\n",
       "    .dataframe tbody tr th {\n",
       "        vertical-align: top;\n",
       "    }\n",
       "\n",
       "    .dataframe thead th {\n",
       "        text-align: right;\n",
       "    }\n",
       "</style>\n",
       "<table border=\"1\" class=\"dataframe\">\n",
       "  <thead>\n",
       "    <tr style=\"text-align: right;\">\n",
       "      <th></th>\n",
       "      <th>Name</th>\n",
       "      <th>Age</th>\n",
       "      <th>Gender</th>\n",
       "      <th>Salary</th>\n",
       "    </tr>\n",
       "  </thead>\n",
       "  <tbody>\n",
       "    <tr>\n",
       "      <th>0</th>\n",
       "      <td>Alice</td>\n",
       "      <td>25</td>\n",
       "      <td>Female</td>\n",
       "      <td>50000</td>\n",
       "    </tr>\n",
       "    <tr>\n",
       "      <th>2</th>\n",
       "      <td>Charlie</td>\n",
       "      <td>35</td>\n",
       "      <td>NaN</td>\n",
       "      <td>70000</td>\n",
       "    </tr>\n",
       "  </tbody>\n",
       "</table>\n",
       "</div>"
      ],
      "text/plain": [
       "      Name  Age  Gender  Salary\n",
       "0    Alice   25  Female   50000\n",
       "2  Charlie   35     NaN   70000"
      ]
     },
     "execution_count": 107,
     "metadata": {},
     "output_type": "execute_result"
    }
   ],
   "source": [
    "df[df['Name'].str.contains('l')]"
   ]
  },
  {
   "cell_type": "code",
   "execution_count": 108,
   "metadata": {},
   "outputs": [
    {
     "data": {
      "text/html": [
       "<div>\n",
       "<style scoped>\n",
       "    .dataframe tbody tr th:only-of-type {\n",
       "        vertical-align: middle;\n",
       "    }\n",
       "\n",
       "    .dataframe tbody tr th {\n",
       "        vertical-align: top;\n",
       "    }\n",
       "\n",
       "    .dataframe thead th {\n",
       "        text-align: right;\n",
       "    }\n",
       "</style>\n",
       "<table border=\"1\" class=\"dataframe\">\n",
       "  <thead>\n",
       "    <tr style=\"text-align: right;\">\n",
       "      <th></th>\n",
       "      <th>Name</th>\n",
       "      <th>Age</th>\n",
       "      <th>Gender</th>\n",
       "      <th>Salary</th>\n",
       "    </tr>\n",
       "  </thead>\n",
       "  <tbody>\n",
       "    <tr>\n",
       "      <th>2</th>\n",
       "      <td>Charlie</td>\n",
       "      <td>35</td>\n",
       "      <td>NaN</td>\n",
       "      <td>70000</td>\n",
       "    </tr>\n",
       "  </tbody>\n",
       "</table>\n",
       "</div>"
      ],
      "text/plain": [
       "      Name  Age Gender  Salary\n",
       "2  Charlie   35    NaN   70000"
      ]
     },
     "execution_count": 108,
     "metadata": {},
     "output_type": "execute_result"
    }
   ],
   "source": [
    "# Filter rows where any column(axis=1) contains NaN values\n",
    "df[df.isna().any(axis=1)]"
   ]
  },
  {
   "cell_type": "code",
   "execution_count": 109,
   "metadata": {},
   "outputs": [
    {
     "data": {
      "text/html": [
       "<div>\n",
       "<style scoped>\n",
       "    .dataframe tbody tr th:only-of-type {\n",
       "        vertical-align: middle;\n",
       "    }\n",
       "\n",
       "    .dataframe tbody tr th {\n",
       "        vertical-align: top;\n",
       "    }\n",
       "\n",
       "    .dataframe thead th {\n",
       "        text-align: right;\n",
       "    }\n",
       "</style>\n",
       "<table border=\"1\" class=\"dataframe\">\n",
       "  <thead>\n",
       "    <tr style=\"text-align: right;\">\n",
       "      <th></th>\n",
       "      <th>Name</th>\n",
       "      <th>Age</th>\n",
       "      <th>Gender</th>\n",
       "      <th>Salary</th>\n",
       "    </tr>\n",
       "  </thead>\n",
       "  <tbody>\n",
       "    <tr>\n",
       "      <th>3</th>\n",
       "      <td>David</td>\n",
       "      <td>40</td>\n",
       "      <td>Male</td>\n",
       "      <td>80000</td>\n",
       "    </tr>\n",
       "    <tr>\n",
       "      <th>4</th>\n",
       "      <td>Emma</td>\n",
       "      <td>45</td>\n",
       "      <td>Female</td>\n",
       "      <td>90000</td>\n",
       "    </tr>\n",
       "  </tbody>\n",
       "</table>\n",
       "</div>"
      ],
      "text/plain": [
       "    Name  Age  Gender  Salary\n",
       "3  David   40    Male   80000\n",
       "4   Emma   45  Female   90000"
      ]
     },
     "execution_count": 109,
     "metadata": {},
     "output_type": "execute_result"
    }
   ],
   "source": [
    "# Filter rows where values in 'Age' column satisfy a custom function (e.g., greater than the mean of the column)\n",
    "df[df['Age'].apply(lambda x: x > df['Age'].mean())]"
   ]
  },
  {
   "cell_type": "code",
   "execution_count": 110,
   "metadata": {},
   "outputs": [
    {
     "data": {
      "text/html": [
       "<div>\n",
       "<style scoped>\n",
       "    .dataframe tbody tr th:only-of-type {\n",
       "        vertical-align: middle;\n",
       "    }\n",
       "\n",
       "    .dataframe tbody tr th {\n",
       "        vertical-align: top;\n",
       "    }\n",
       "\n",
       "    .dataframe thead th {\n",
       "        text-align: right;\n",
       "    }\n",
       "</style>\n",
       "<table border=\"1\" class=\"dataframe\">\n",
       "  <thead>\n",
       "    <tr style=\"text-align: right;\">\n",
       "      <th></th>\n",
       "      <th>Name</th>\n",
       "      <th>Age</th>\n",
       "      <th>Gender</th>\n",
       "      <th>Salary</th>\n",
       "    </tr>\n",
       "  </thead>\n",
       "  <tbody>\n",
       "    <tr>\n",
       "      <th>3</th>\n",
       "      <td>David</td>\n",
       "      <td>40</td>\n",
       "      <td>Male</td>\n",
       "      <td>80000</td>\n",
       "    </tr>\n",
       "    <tr>\n",
       "      <th>4</th>\n",
       "      <td>Emma</td>\n",
       "      <td>45</td>\n",
       "      <td>Female</td>\n",
       "      <td>90000</td>\n",
       "    </tr>\n",
       "  </tbody>\n",
       "</table>\n",
       "</div>"
      ],
      "text/plain": [
       "    Name  Age  Gender  Salary\n",
       "3  David   40    Male   80000\n",
       "4   Emma   45  Female   90000"
      ]
     },
     "execution_count": 110,
     "metadata": {},
     "output_type": "execute_result"
    }
   ],
   "source": [
    "# Filter rows where values in 'A' column are greater than 20 and values in 'B' column are less than 40 using query method\n",
    "df.query('Age > 20 & Salary > 75000')"
   ]
  },
  {
   "cell_type": "code",
   "execution_count": 111,
   "metadata": {},
   "outputs": [
    {
     "ename": "TypeError",
     "evalue": "type() takes 1 or 3 arguments",
     "output_type": "error",
     "traceback": [
      "\u001b[1;31m---------------------------------------------------------------------------\u001b[0m",
      "\u001b[1;31mTypeError\u001b[0m                                 Traceback (most recent call last)",
      "Cell \u001b[1;32mIn[111], line 1\u001b[0m\n\u001b[1;32m----> 1\u001b[0m \u001b[38;5;28;43mtype\u001b[39;49m\u001b[43m(\u001b[49m\u001b[43m)\u001b[49m\n",
      "\u001b[1;31mTypeError\u001b[0m: type() takes 1 or 3 arguments"
     ]
    }
   ],
   "source": [
    "type()"
   ]
  },
  {
   "cell_type": "code",
   "execution_count": null,
   "metadata": {},
   "outputs": [],
   "source": [
    "# try to split and understand this code\n",
    "df['Name'][df[df['Age']==45].index] "
   ]
  }
 ],
 "metadata": {
  "kernelspec": {
   "display_name": "visa",
   "language": "python",
   "name": "python3"
  },
  "language_info": {
   "codemirror_mode": {
    "name": "ipython",
    "version": 3
   },
   "file_extension": ".py",
   "mimetype": "text/x-python",
   "name": "python",
   "nbconvert_exporter": "python",
   "pygments_lexer": "ipython3",
   "version": "3.8.18"
  }
 },
 "nbformat": 4,
 "nbformat_minor": 2
}
